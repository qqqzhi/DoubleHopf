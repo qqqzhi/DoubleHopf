{
 "cells": [
  {
   "cell_type": "code",
   "execution_count": null,
   "metadata": {},
   "outputs": [],
   "source": [
    "from IPython.core.display import display, HTML\n",
    "display(HTML(\"<style>.container { width:90% !important; }</style>\"))"
   ]
  },
  {
   "cell_type": "code",
   "execution_count": 1,
   "metadata": {
    "scrolled": true
   },
   "outputs": [
    {
     "name": "stdout",
     "output_type": "stream",
     "text": [
      "Once deleted, variables cannot be recovered. Proceed (y/[n])? y\n"
     ]
    }
   ],
   "source": [
    "%reset"
   ]
  },
  {
   "cell_type": "code",
   "execution_count": 2,
   "metadata": {},
   "outputs": [],
   "source": [
    "# from rushisland1 import *\n",
    "from Derivative import *"
   ]
  },
  {
   "cell_type": "code",
   "execution_count": 3,
   "metadata": {
    "scrolled": true
   },
   "outputs": [],
   "source": [
    "import numpy as np\n",
    "import scipy as sp\n",
    "import pandas as pd\n",
    "import numdifftools as nd\n",
    "pd.set_option('display.float_format', lambda x: '%.8f' % x)"
   ]
  },
  {
   "cell_type": "code",
   "execution_count": 4,
   "metadata": {},
   "outputs": [],
   "source": [
    "def Trissian_old(f_test, x0):\n",
    "    \"\"\"\n",
    "    This function calculates the 3rd order derivative of a function f: R^n -> R\n",
    "    input: \n",
    "        f_test is the function\n",
    "        x0 where the 3rd order want to be calcuated\n",
    "    return: 3-D matrix\n",
    "    \"\"\"\n",
    "    Trissian = np.zeros((x0.shape[0],x0.shape[0],x0.shape[0]))\n",
    "    for i in range(x0.shape[0]):\n",
    "        h = 1e-4\n",
    "        xp1 = np.array(x0, copy=True) \n",
    "        xp1[i] += h\n",
    "        #print(xp1)\n",
    "        xp2 = np.array(x0, copy=True) \n",
    "        xp2[i] += 2*h\n",
    "        #print(xp2)\n",
    "        xm1 = np.array(x0, copy=True) \n",
    "        xm1[i] -= h\n",
    "        #print(xm1)\n",
    "        xm2 = np.array(x0, copy=True) \n",
    "        xm2[i] -= 2*h\n",
    "        #print(xm2)\n",
    "        Trissian[i] = (-nd.Hessian(f_test)(xp2) + 8*nd.Hessian(f_test)(xp1)- 8*nd.Hessian(f_test)(xm1) + nd.Hessian(f_test)(xm2))/(12*h)\n",
    "        #Trissian[i] = (-Hessian(f_test, xp2) + 8*Hessian(f_test, xp1)- 8*Hessian(f_test, xm1) + Hessian(f_test, xm2))/(12*h)\n",
    "    return Trissian"
   ]
  },
  {
   "cell_type": "code",
   "execution_count": 5,
   "metadata": {},
   "outputs": [],
   "source": [
    "x = np.array([9.8626863024948619e-01,6.1165116423884036e-01,1.2558184342430763e+00,\\\n",
    "                                 0.0,4.8830798594520859e+00,5.4256442882800945e-03,\\\n",
    "              2.3355826940514226e+00,9.0728914911947700e-01,6.3456098937805228e-01,\\\n",
    "              1.3019464471464004e+00,                   0.0,2.4973842398326895e+00,\\\n",
    "              4.7569223615860759e-02,2.0985781450456096e+00])"
   ]
  },
  {
   "cell_type": "code",
   "execution_count": null,
   "metadata": {},
   "outputs": [],
   "source": [
    "# n_c = 4\n",
    "# n_s = 10\n",
    "# n = x.shape[0]"
   ]
  },
  {
   "cell_type": "code",
   "execution_count": null,
   "metadata": {
    "scrolled": false
   },
   "outputs": [],
   "source": [
    "all_fun = [f_Eqp1,f_Edp1,f_delta1,f_w1,f_VF1,f_VA1,f_VE1,f_Eqp2,f_Edp2,f_delta2,f_w2,f_VF2,f_VA2,f_VE2]\n",
    "J = np.array([nd.Jacobian(f)(x).ravel() for f in all_fun])\n",
    "# lam, _ = np.linalg.eig(J)\n",
    "# lam\n",
    "pd.DataFrame(Jacobian(x) - J)"
   ]
  },
  {
   "cell_type": "code",
   "execution_count": null,
   "metadata": {
    "scrolled": true
   },
   "outputs": [],
   "source": [
    "# H1 = nd.Hessian(f_Vm1)(x)\n",
    "# H2 = d_Vm1(x, 2)\n",
    "# pd.DataFrame(H1-H2)"
   ]
  },
  {
   "cell_type": "code",
   "execution_count": null,
   "metadata": {
    "scrolled": false
   },
   "outputs": [],
   "source": [
    "pd.DataFrame(H1)"
   ]
  },
  {
   "cell_type": "code",
   "execution_count": null,
   "metadata": {
    "scrolled": true
   },
   "outputs": [],
   "source": [
    "pd.DataFrame(H2)"
   ]
  },
  {
   "cell_type": "code",
   "execution_count": null,
   "metadata": {},
   "outputs": [],
   "source": [
    "# np.set_printoptions(threshold=np.nan)"
   ]
  },
  {
   "cell_type": "code",
   "execution_count": null,
   "metadata": {},
   "outputs": [],
   "source": [
    "# idx = [(i,j,k) for i in range(n) for j in range(i,n) for k in range(j,n)]"
   ]
  },
  {
   "cell_type": "code",
   "execution_count": 41,
   "metadata": {},
   "outputs": [],
   "source": [
    "# def f_Vm1(x):\n",
    "#     return abs(f_Vdq(x)[0])"
   ]
  },
  {
   "cell_type": "code",
   "execution_count": 39,
   "metadata": {},
   "outputs": [],
   "source": [
    "T1 = Trissian_old(f_w2, x)"
   ]
  },
  {
   "cell_type": "code",
   "execution_count": 40,
   "metadata": {
    "scrolled": false
   },
   "outputs": [],
   "source": [
    "T2 = d_w2(x,3)"
   ]
  },
  {
   "cell_type": "code",
   "execution_count": 43,
   "metadata": {},
   "outputs": [],
   "source": [
    "# abs(T2-T1).max(axis=0).max(axis=1)"
   ]
  },
  {
   "cell_type": "code",
   "execution_count": null,
   "metadata": {
    "scrolled": true
   },
   "outputs": [],
   "source": [
    "pd.DataFrame(T1[0,:,:])"
   ]
  },
  {
   "cell_type": "code",
   "execution_count": null,
   "metadata": {
    "scrolled": false
   },
   "outputs": [],
   "source": [
    "pd.DataFrame(T2[0,:,:])"
   ]
  },
  {
   "cell_type": "code",
   "execution_count": null,
   "metadata": {
    "scrolled": false
   },
   "outputs": [],
   "source": [
    "idx = 0\n",
    "pd.DataFrame(T1[idx,:,:]-T2[idx,:,:])"
   ]
  },
  {
   "cell_type": "code",
   "execution_count": null,
   "metadata": {},
   "outputs": [],
   "source": [
    "pd.DataFrame(T1[idx,:,:]-T2[idx,:,:]).abs().max()"
   ]
  }
 ],
 "metadata": {
  "kernelspec": {
   "display_name": "Python 3",
   "language": "python",
   "name": "python3"
  },
  "language_info": {
   "codemirror_mode": {
    "name": "ipython",
    "version": 3
   },
   "file_extension": ".py",
   "mimetype": "text/x-python",
   "name": "python",
   "nbconvert_exporter": "python",
   "pygments_lexer": "ipython3",
   "version": "3.6.5"
  }
 },
 "nbformat": 4,
 "nbformat_minor": 2
}
