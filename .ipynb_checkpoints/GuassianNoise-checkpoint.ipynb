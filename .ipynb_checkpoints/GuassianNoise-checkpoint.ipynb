{
 "cells": [
  {
   "cell_type": "code",
   "execution_count": 1,
   "metadata": {},
   "outputs": [],
   "source": [
    "import numpy as np\n",
    "import matplotlib.pyplot as plt\n",
    "import pandas as pd\n",
    "%matplotlib inline"
   ]
  },
  {
   "cell_type": "code",
   "execution_count": 2,
   "metadata": {},
   "outputs": [],
   "source": [
    "casenum = 100\n",
    "length4case = 600\n",
    "samplerate = 50\n",
    "fs = 4 * samplerate\n",
    "NoiseLength = length4case*fs\n",
    "tailLength = 50*fs"
   ]
  },
  {
   "cell_type": "code",
   "execution_count": 3,
   "metadata": {},
   "outputs": [
    {
     "name": "stdout",
     "output_type": "stream",
     "text": [
      "(13000000, 2)\n",
      "(13000000, 2)\n",
      "(13000000, 2)\n",
      "(13000000, 2)\n"
     ]
    }
   ],
   "source": [
    "sigmas = [9.67,17.67,1,1]\n",
    "\n",
    "for i in range(len(sigmas)):\n",
    "    res = []\n",
    "    for seed in range(0+i*1000,1000+i*1000,10):\n",
    "        np.random.seed(seed)\n",
    "        s = np.random.normal(0, sigmas[i], NoiseLength)\n",
    "        tail = np.zeros((tailLength,)) \n",
    "        res.extend(np.hstack((s,tail)))\n",
    "    res = np.array(res)\n",
    "    time = np.array([i/fs for i in range(0,res.shape[0])])\n",
    "    out = np.c_[time, res]\n",
    "    if i == 0:\n",
    "        filename = \"200Hz_600+50sec_100cases_Sigma1per_P7.txt\"\n",
    "    if i == 1:\n",
    "        filename = \"200Hz_600+50sec_100cases_Sigma1per_P9.txt\"\n",
    "    if i == 2:\n",
    "        filename = \"200Hz_600+50sec_100cases_Sigma1per_Q7.txt\"\n",
    "    if i == 3:\n",
    "        filename = \"200Hz_600+50sec_100cases_Sigma1per_Q9.txt\"\n",
    "    np.savetxt(filename, out, delimiter='\\t',fmt='%.10f')\n",
    "    print(out.shape)"
   ]
  },
  {
   "cell_type": "code",
   "execution_count": null,
   "metadata": {
    "scrolled": true
   },
   "outputs": [],
   "source": [
    "# size = length4case*casenum*fs\n",
    "# time = np.linspace(0,length4case*casenum,size)\n",
    "# #fig,axes = plt.subplots(2,2)\n",
    "\n",
    "# for seed in seeds:\n",
    "#     np.random.seed(seed)\n",
    "#     sigmas = [9.67,17.67,1,1]\n",
    "#     for i in range(4):\n",
    "#         sigma = sigmas[i]\n",
    "#         s = np.random.normal(mu, sigma, size)\n",
    "#         out = np.stack([time, s]).T\n",
    "#         if i < 2:\n",
    "#             filename = \"..\\..\\\\240Hz_seed\"+str(seed)+\"sigma\"+str(int(sigma)//1)+\".txt\"        \n",
    "#             np.savetxt(filename, out, delimiter='\\t',fmt='%.10f')\n",
    "#         else:\n",
    "#             filename = \"..\\..\\\\240Hz_seed\"+str(seed)+\"sigma1\"+\"_7.txt\"  if i == 2 else \"..\\..\\\\240Hz_seed\"+str(seed)+\"sigma1\"+\"_9.txt\"\n",
    "#             np.savetxt(filename, out, delimiter='\\t',fmt='%.10f')\n",
    "#         #axes[i//2][i%2].hist(s, 30, density=True)"
   ]
  },
  {
   "cell_type": "code",
   "execution_count": null,
   "metadata": {
    "scrolled": true
   },
   "outputs": [],
   "source": [
    "count, bins, ignored = plt.hist(s, 30, density=True)\n",
    "# plt.plot(bins, 1/(sigma * np.sqrt(2 * np.pi)) * np.exp( - (bins - mu)**2 / (2 * sigma**2) ), linewidth=2, color='r')\n",
    "plt.show()"
   ]
  },
  {
   "cell_type": "code",
   "execution_count": 76,
   "metadata": {
    "scrolled": true
   },
   "outputs": [],
   "source": [
    "header = pd.read_csv('Kundur_0p3Hz_10damping_50Hz_100cases_600+50secPercase.txt',sep =\"\\'\\s\\'\",nrows=1, skipinitialspace=True,header=None,engine ='python')\n",
    "header = pd.Series(header.values.squeeze()).str.replace(\"'\",\"\")\n",
    "data = pd.read_csv('Kundur_0p3Hz_10damping_50Hz_100cases_600+50secPercase.txt',names = header, delimiter='\\s+',skiprows=1, skipinitialspace=True,header=None)"
   ]
  },
  {
   "cell_type": "code",
   "execution_count": 77,
   "metadata": {},
   "outputs": [],
   "source": [
    "caselength = 650\n",
    "casenum = 100\n",
    "fs = 50\n",
    "df = np.split(data, range(caselength*fs,data.shape[0],caselength*fs), axis=0)"
   ]
  },
  {
   "cell_type": "code",
   "execution_count": 78,
   "metadata": {},
   "outputs": [
    {
     "name": "stderr",
     "output_type": "stream",
     "text": [
      "C:\\Users\\Yuan\\Anaconda3\\lib\\site-packages\\pandas\\core\\indexing.py:630: SettingWithCopyWarning: \n",
      "A value is trying to be set on a copy of a slice from a DataFrame.\n",
      "Try using .loc[row_indexer,col_indexer] = value instead\n",
      "\n",
      "See the caveats in the documentation: http://pandas.pydata.org/pandas-docs/stable/indexing.html#indexing-view-versus-copy\n",
      "  self.obj[item_labels[indexer[info_axis]]] = value\n"
     ]
    }
   ],
   "source": [
    "assert(len(df[0:-1]) == casenum)\n",
    "for i in range(casenum):\n",
    "    d = df[i].iloc[0:600*fs+1,:]\n",
    "    #d.Time = np.linspace(0, 600, 18001)\n",
    "    d.loc[:,'Time'] = d.loc[:,'Time'] - d.Time.values[0]\n",
    "    filename = \"Kundur_0p3Hz_10damping_50Hz_600sec_Case\" + str(i+1) + \".csv\"\n",
    "    d.to_csv(filename, index=False)"
   ]
  },
  {
   "cell_type": "code",
   "execution_count": null,
   "metadata": {},
   "outputs": [],
   "source": [
    "angle = data.set_index('Time')\n",
    "# angle = angle/180*np.pi\n",
    "# angle = angle.apply(np.unwrap,axis=0)\n",
    "# angle = angle.sub(angle.mean(axis=1),axis=0)\n",
    "# angle = angle/np.pi*180"
   ]
  },
  {
   "cell_type": "code",
   "execution_count": null,
   "metadata": {},
   "outputs": [],
   "source": [
    "df[4].iloc[:,1:].plot()"
   ]
  },
  {
   "cell_type": "code",
   "execution_count": null,
   "metadata": {
    "scrolled": true
   },
   "outputs": [],
   "source": [
    "angle.iloc[0:30000,2].plot()"
   ]
  },
  {
   "cell_type": "code",
   "execution_count": null,
   "metadata": {},
   "outputs": [],
   "source": []
  }
 ],
 "metadata": {
  "kernelspec": {
   "display_name": "Python 3",
   "language": "python",
   "name": "python3"
  },
  "language_info": {
   "codemirror_mode": {
    "name": "ipython",
    "version": 3
   },
   "file_extension": ".py",
   "mimetype": "text/x-python",
   "name": "python",
   "nbconvert_exporter": "python",
   "pygments_lexer": "ipython3",
   "version": "3.6.5"
  }
 },
 "nbformat": 4,
 "nbformat_minor": 2
}
