{
 "cells": [
  {
   "cell_type": "markdown",
   "metadata": {},
   "source": [
    "### We are assuming that the state vector are in the following order:\n",
    "$$ x = [E_{qp}\\quad E_{dp}\\quad \\delta\\quad \\omega\\quad V_F\\quad V_A\\quad V_E]^T $$"
   ]
  },
  {
   "cell_type": "code",
   "execution_count": null,
   "metadata": {},
   "outputs": [],
   "source": [
    "%reset"
   ]
  },
  {
   "cell_type": "code",
   "execution_count": null,
   "metadata": {},
   "outputs": [],
   "source": [
    "from rushisland_Hopf import *"
   ]
  },
  {
   "cell_type": "code",
   "execution_count": null,
   "metadata": {},
   "outputs": [],
   "source": [
    "import numdifftools as nd\n",
    "import scipy as sp\n",
    "import pandas as pd\n",
    "import matplotlib.pyplot as plt\n",
    "import math\n",
    "from scipy import optimize\n",
    "%matplotlib inline \n",
    "pd.set_option('display.float_format', lambda x: '%.6f' % x)\n",
    "pd.set_option('display.max_columns', None)\n",
    "pd.set_option('display.max_rows', None)\n",
    "np.set_printoptions(precision=25)"
   ]
  },
  {
   "cell_type": "code",
   "execution_count": null,
   "metadata": {
    "scrolled": false
   },
   "outputs": [],
   "source": [
    "x = np.array([1.1401449800918992e+00,  4.9958886847981759e-01,\n",
    "              1.0481051635377925e+00,                       0,\n",
    "              5.5940711445854285e+00,  6.2156346050949197e-03,\n",
    "              2.6740199944145058e+00,  4.6587263056888706e-01,\n",
    "              7.5266995341329701e-01,  1.7066100770026795e+00,\n",
    "                                   0,  3.1108167105851221e+00,\n",
    "              6.2216334211702438e-02,  1.4891750152700951e+00])\n",
    "# x = np.append(x,[5.4272581963009570,4.5459824955834529])\n",
    "sys_fun(x)\n",
    "# sol = optimize.root(sys_fun, x, method='hybr')\n",
    "# print(sol.fun)\n",
    "# print(sol.message)\n",
    "# print(sol.success)"
   ]
  },
  {
   "cell_type": "code",
   "execution_count": null,
   "metadata": {},
   "outputs": [],
   "source": [
    "x = sol.x"
   ]
  },
  {
   "cell_type": "markdown",
   "metadata": {},
   "source": [
    "### Now we calculate Jacobian matrix $J$ and  the tranformation matrix $Q$"
   ]
  },
  {
   "cell_type": "code",
   "execution_count": null,
   "metadata": {
    "scrolled": false
   },
   "outputs": [],
   "source": [
    "all_fun = [f_Eqp1,f_Edp1,f_delta1,f_w1,f_VF1,f_VA1,f_VE1,f_Eqp2,f_Edp2,f_delta2,f_w2,f_VF2,f_VA2,f_VE2]\n",
    "# J = np.array([nd.Jacobian(f)(x).ravel() for f in all_fun])\n",
    "J = Jacobian(x)\n",
    "lam, v = np.linalg.eig(J) # Here we want to calculate the left eigenvecs, so use J_org.T; because use left eigvec makes it easier to calc transformation matrix\n",
    "print(lam)"
   ]
  },
  {
   "cell_type": "code",
   "execution_count": null,
   "metadata": {},
   "outputs": [],
   "source": [
    "n_c = 2\n",
    "n_s = 12\n",
    "n = x.shape[0]"
   ]
  },
  {
   "cell_type": "code",
   "execution_count": null,
   "metadata": {
    "scrolled": true
   },
   "outputs": [],
   "source": [
    "\"\"\" For Fred's Formula \"\"\"\n",
    "idx = 5\n",
    "Q = np.c_[-v[:,idx].imag,v[:,idx].real]\n",
    "i = 0\n",
    "while i < len(lam):\n",
    "    if i==idx or i==idx+1:\n",
    "        i += 1\n",
    "    else:\n",
    "        Q=np.c_[Q,v[:,i]]\n",
    "        i += 1\n",
    "            \n",
    "Q = Q/(abs(np.linalg.det(Q))**(1/n))\n",
    "P = np.linalg.inv(Q)\n",
    "J_cs = np.linalg.multi_dot([P,J,Q])\n",
    "display(pd.DataFrame(J_cs).applymap(lambda x: '{:,.8f}'.format(x)))"
   ]
  },
  {
   "cell_type": "code",
   "execution_count": null,
   "metadata": {
    "scrolled": true
   },
   "outputs": [],
   "source": [
    "\"\"\" Weijun's Formula \"\"\"\n",
    "idx = 5\n",
    "Q = np.c_[-v[:,idx].imag,v[:,idx].real]\n",
    "i=0\n",
    "while i < len(lam):\n",
    "    if i==idx or i==idx+1:\n",
    "        i += 1\n",
    "    else:\n",
    "        if lam[i].imag == 0:\n",
    "            Q=np.c_[Q,v[:,i]]\n",
    "            i += 1\n",
    "        else:\n",
    "            Q=np.c_[Q,v[:,i].imag,v[:,i].real]\n",
    "            i += 2\n",
    "            \n",
    "Q = Q/(abs(np.linalg.det(Q))**(1/n))\n",
    "P = np.linalg.inv(Q)\n",
    "J_cs = np.linalg.multi_dot([P,J,Q])\n",
    "display(pd.DataFrame(J_cs).applymap(lambda x: '{:,.8f}'.format(x)))"
   ]
  },
  {
   "cell_type": "code",
   "execution_count": null,
   "metadata": {
    "scrolled": true
   },
   "outputs": [],
   "source": [
    "Z2 = np.zeros((n,n*(n+1)//2))\n",
    "for i in range(n):\n",
    "    #hes = nd.Hessian(all_fun[i])(x) # The original Hessian of each f in all_fun\n",
    "    hes = Hessian(x)[i]\n",
    "    hes[np.triu_indices(n,1)] *= 2  # double each element above the main diagonal\n",
    "    Z2[i] = hes[np.triu_indices(n)] # Keep upper triangular part\n",
    "Z2 = Z2/2 #divide all elements by 2, which corresponds to *2 in above line"
   ]
  },
  {
   "cell_type": "code",
   "execution_count": null,
   "metadata": {
    "scrolled": true
   },
   "outputs": [],
   "source": [
    "Z3 = np.zeros((n,(n*(n+1)*(n+2)//6)))\n",
    "Z3_idx = [(i,j,k) for i in range(n) for j in range(i,n) for k in range(j,n)]\n",
    "for i in range(n):\n",
    "    #t = Trissian(all_fun[i], x)\n",
    "    t = Trissian(x)[i]\n",
    "    Z3[i] = [t[j] for j in Z3_idx]\n",
    "\n",
    "Z3_Gain = []\n",
    "for i in Z3_idx:\n",
    "    val = 1\n",
    "    for j in range(n):\n",
    "        val *= math.factorial(i.count(j))\n",
    "    Z3_Gain.append(val)\n",
    "Z3_Gain = np.diag(1/np.array(Z3_Gain))    \n",
    "Z3 = Z3.dot(Z3_Gain)\n",
    "# np.savetxt(\"Fxxx.csv\", Z3, delimiter=\",\")\n",
    "\n",
    "# Z3 = np.genfromtxt('Fxxx_goodcase1.csv', delimiter=',',dtype=float)\n",
    "# display(pd.DataFrame(Z3))"
   ]
  },
  {
   "cell_type": "code",
   "execution_count": null,
   "metadata": {
    "scrolled": false
   },
   "outputs": [],
   "source": [
    "W2 = np.linalg.multi_dot([np.linalg.inv(Q), Z2, T2_mat(n), np.kron(Q,Q), S2_mat(n)])\n",
    "# display(pd.DataFrame(W2)) # W2 is of dim: n x n(n+1)/2 = 14 x 105\n",
    "\n",
    "\n",
    "W3 = np.linalg.multi_dot([np.linalg.inv(Q), Z3, T3_mat(n), np.kron(np.eye(n),T2_mat(n)), \n",
    "                      np.kron(np.kron(Q,Q), Q), \n",
    "                      np.kron(np.eye(n),S2_mat(n)), S3_mat(n)])"
   ]
  },
  {
   "cell_type": "code",
   "execution_count": null,
   "metadata": {
    "scrolled": true
   },
   "outputs": [],
   "source": [
    "J_c = J_cs[0:n_c,0:n_c]\n",
    "J_s = J_cs[n_c:,n_c:]\n",
    "V2_uu = np.zeros((n_s,n_c*(n_c+1)//2))\n",
    "\n",
    "W2_idx = [(i,j) for i in range(n) for j in range(i,n)]\n",
    "V2_uu_idx = [(i,j) for i in range(n_c) for j in range(i,n_c)]\n",
    "V2_uu_idx = [W2_idx.index(i) for i in V2_uu_idx]\n",
    "V2_uu = np.array([w[V2_uu_idx] for w in W2[n_c:n]])\n",
    "# display(pd.DataFrame(V2_uu))\n",
    "\n",
    "J_cbar = np.kron(np.eye(n_c),J_c) + np.array([np.kron(np.eye(n_c),row) for row in J_c]).reshape(-1,n_c**2)\n",
    "#display(pd.DataFrame(J_cbar))\n",
    "\n",
    "C2 = - np.linalg.multi_dot([T2_mat(n_c),J_cbar,S2_mat(n_c)])\n",
    "#display(pd.DataFrame(C2))\n",
    "\n",
    "H_c2 = sp.linalg.solve_sylvester(J_s, C2, -V2_uu)\n",
    "# display(pd.DataFrame(H_c2))"
   ]
  },
  {
   "cell_type": "code",
   "execution_count": null,
   "metadata": {},
   "outputs": [],
   "source": [
    "Uu2_idx = [(i,j) for i in range(n_c) for j in range(i,n_c)]\n",
    "Uu2_idx = [W2_idx.index(i) for i in Uu2_idx]\n",
    "Uu2 = np.array([w[Uu2_idx] for w in W2[0:n_c]])\n",
    "#display(pd.DataFrame(Uu2))\n",
    "Uuv_idx = [(i,j) for i in range(n_c) for j in range(n_c,n)]\n",
    "Uuv_idx = [W2_idx.index(i) for i in Uuv_idx]\n",
    "Uuv = np.array([w[Uuv_idx] for w in W2[0:n_c]])\n",
    "#display(pd.DataFrame(Uuv))"
   ]
  },
  {
   "cell_type": "code",
   "execution_count": null,
   "metadata": {},
   "outputs": [],
   "source": [
    "W3_idx = [(i,j,k) for i in range(n) for j in range(i,n) for k in range(j,n)]\n",
    "Uu3_idx = [(i,j,k) for i in range(n_c) for j in range(i,n_c) for k in range(j,n_c)]\n",
    "Uu3_idx = [W3_idx.index(i) for i in Uu3_idx]\n",
    "Uu3 = np.array([w[Uu3_idx] for w in W3[0:n_c]])\n",
    "#display(pd.DataFrame(Uu3))\n",
    "Uuc3 = np.linalg.multi_dot([Uuv, np.kron(np.eye(n_c), H_c2), S3_mat(n_c)]) + Uu3"
   ]
  },
  {
   "cell_type": "code",
   "execution_count": null,
   "metadata": {},
   "outputs": [],
   "source": [
    "\"\"\" Guckenheimer's formula \"\"\"\n",
    "(Uuc3[0,0]*6 + 2*Uuc3[0,2] + 6*Uuc3[1,3] + 2*Uuc3[1,1])/16 - \\\n",
    "(Uu2[0,1]*(2*Uu2[0,0] + 2*Uu2[0,2]) - Uu2[1,1]*(2*Uu2[1,0] + 2*Uu2[1,2]) \\\n",
    " - 2*Uu2[0,0]*2*Uu2[1,0] + 2*Uu2[0,2]*2*Uu2[1,2])/16/J_cs[0,1].real"
   ]
  },
  {
   "cell_type": "code",
   "execution_count": null,
   "metadata": {
    "scrolled": true
   },
   "outputs": [],
   "source": [
    "\"\"\" Fred's Formula \"\"\"\n",
    "Z2_idx = [(i,j) for i in range(n) for j in range(i,n)]\n",
    "\n",
    "omega = J_cs[0,1].real\n",
    "print(omega)\n",
    "ac = (W3[0][Z3_idx.index((0,0,0))]*6 + W3[0][Z3_idx.index((0,1,1))]*2 + \\\n",
    "      W3[1][Z3_idx.index((1,1,1))]*6 + W3[1][Z3_idx.index((0,0,1))]*2)/16 - \\\n",
    "     (W2[0][Z2_idx.index((0,1))]*(W2[0][Z2_idx.index((0,0))]*2 + W2[0][Z2_idx.index((1,1))]*2) - \n",
    "      W2[1][Z2_idx.index((0,1))]*(W2[1][Z2_idx.index((0,0))]*2 + W2[1][Z2_idx.index((1,1))]*2) - \\\n",
    "      4*W2[0][Z2_idx.index((0,0))]*W2[1][Z2_idx.index((0,0))] + \\\n",
    "      4*W2[0][Z2_idx.index((1,1))]*W2[1][Z2_idx.index((1,1))])/16/omega\n",
    "print(\"ac=\",ac)\n",
    "print(\"-----------------\")\n",
    "as_sum = 0\n",
    "lamb = np.diag(J_cs[2:,2:])\n",
    "for j in range(2,n):\n",
    "    lj= lamb[j-2]\n",
    "    print(\"lambda_j={0}:\".format(lj))\n",
    "    \n",
    "    H21 = (                    -1/lj*(W2[j][Z2_idx.index((0,0))] + W2[j][Z2_idx.index((1,1))]) - \\\n",
    "               lj/(lj**2+4*omega**2)*(W2[j][Z2_idx.index((0,0))] - W2[j][Z2_idx.index((1,1))]) + \\\n",
    "          2*omega/(lj**2+4*omega**2)* W2[j][Z2_idx.index((0,1))]                                   )/2\n",
    "    print(\"j={0}: H21={1}\".format(j,H21))\n",
    "    \n",
    "    H22 =      -lj/(lj**2+4*omega**2)* W2[j][Z2_idx.index((0,1))] - \\\n",
    "           2*omega/(lj**2+4*omega**2)*(W2[j][Z2_idx.index((0,0))] - W2[j][Z2_idx.index((1,1))])\n",
    "    print(\"j={0}: H22={1}\".format(j,H22))\n",
    "    \n",
    "    H23 =  (                   -1/lj*(W2[j][Z2_idx.index((0,0))] + W2[j][Z2_idx.index((1,1))]) + \\\n",
    "               lj/(lj**2+4*omega**2)*(W2[j][Z2_idx.index((0,0))] - W2[j][Z2_idx.index((1,1))]) - \\\n",
    "          2*omega/(lj**2+4*omega**2)* W2[j][Z2_idx.index((0,1))]                                   )/2\n",
    "    print(\"j={0}: H23={1}\".format(j,H23))\n",
    "    \n",
    "    as_j =(W2[0][Z2_idx.index((0,j))]*(6*H21 + 2*H23) + 2*W2[0][Z2_idx.index((1,j))]*H22 +\\\n",
    "           W2[1][Z2_idx.index((1,j))]*(2*H21 + 6*H23) + 2*W2[1][Z2_idx.index((0,j))]*H22 ) / 16\n",
    "    print(\"j={0}: as_{1}={2}\".format(j,j,as_j))\n",
    "    print(\"-----------------\")\n",
    "    as_sum += as_j\n",
    "\n",
    "a = ac + as_sum\n",
    "print(\"a=\",a)"
   ]
  },
  {
   "cell_type": "code",
   "execution_count": null,
   "metadata": {},
   "outputs": [],
   "source": [
    "Lambda2 = np.kron(np.eye(n_c*(n_c+1)//2),J_c) + np.kron(C2.T, np.eye(n_c))\n",
    "# Since we know 2nd order will be eliminated, so Lambda should be full rank\n",
    "assert(np.linalg.matrix_rank(Lambda2) == Lambda2.shape[0])\n",
    "# So R_2n will be zero and H_2n could be solved directly from the Sylvester Equation\n",
    "H_2n = sp.linalg.solve_sylvester(J_c, C2, -Uu2)\n",
    "#display(pd.DataFrame(H_2n))\n",
    "R_2n = np.dot(J_c,H_2n) + np.dot(H_2n,C2) + Uu2"
   ]
  },
  {
   "cell_type": "code",
   "execution_count": null,
   "metadata": {},
   "outputs": [],
   "source": [
    "H_bar = np.kron(np.eye(n_c),np.dot(H_2n,T2_mat(n_c))) + np.array([np.kron(np.eye(n_c),row) for row in np.dot(H_2n,T2_mat(n_c))]).reshape(-1,n_c**3)\n",
    "#display(pd.DataFrame(H_bar))\n",
    "R_bar = np.kron(np.eye(n_c),np.dot(R_2n,T2_mat(n_c))) + np.array([np.kron(np.eye(n_c),row) for row in np.dot(R_2n,T2_mat(n_c))]).reshape(-1,n_c**3)\n",
    "#display(pd.DataFrame(R_bar))\n",
    "Ny3 = np.linalg.multi_dot([Uu2,T2_mat(n_c),H_bar,np.kron(np.eye(n_c),S2_mat(n_c)),S3_mat(n_c)]) + Uuc3 - np.linalg.multi_dot([H_2n,T2_mat(n_c),R_bar,np.kron(np.eye(n_c),S2_mat(n_c)),S3_mat(n_c)])\n",
    "#display(pd.DataFrame(Ny3))\n",
    "J_bar = np.kron(np.eye(n_c**2),J_c) + np.kron(np.eye(n_c), np.array([np.kron(np.eye(n_c),row) for row in J_c]).reshape(-1,n_c**2)) + np.array([np.kron(np.eye(n_c**2),row) for row in J_c]).reshape(-1,n_c**3) \n",
    "#display(pd.DataFrame(J_bar))\n",
    "C3 = -np.linalg.multi_dot([T3_mat(n_c),np.kron(np.eye(n_c),T2_mat(n_c)),J_bar,np.kron(np.eye(n_c),S2_mat(n_c)),S3_mat(n_c)])\n",
    "#display(pd.DataFrame(C3))"
   ]
  },
  {
   "cell_type": "code",
   "execution_count": null,
   "metadata": {},
   "outputs": [],
   "source": [
    "Lambda3 = np.kron(J_c,np.eye(n_c*(n_c+1)*(n_c+2)//6)) + np.kron(np.eye(n_c),C3.T)\n",
    "np.linalg.matrix_rank(Lambda3)"
   ]
  },
  {
   "cell_type": "code",
   "execution_count": null,
   "metadata": {
    "scrolled": true
   },
   "outputs": [],
   "source": [
    "lam, _ = np.linalg.eig(Lambda3)\n",
    "lam"
   ]
  },
  {
   "cell_type": "code",
   "execution_count": null,
   "metadata": {},
   "outputs": [],
   "source": [
    "U, s, V = np.linalg.svd(Lambda3)\n",
    "R3n = U.dot( np.vstack((np.zeros((6,1)), np.linalg.inv(U).dot(Ny3.reshape(8,-1))[-2:])) )"
   ]
  },
  {
   "cell_type": "code",
   "execution_count": null,
   "metadata": {
    "scrolled": false
   },
   "outputs": [],
   "source": [
    "L3 = np.zeros((8,2))\n",
    "L3[[0,2,5,7],[0,0,0,0]] = 1\n",
    "L3[[1,3],[1,1]] = -1\n",
    "L3[[4,6],[1,1]] = 1\n",
    "L3\n",
    "# np.linalg.matrix_rank(L3)\n",
    "# print(np.linalg.matrix_rank((np.concatenate((Lambda3,L3),axis=1))))\n",
    "# assert(np.linalg.matrix_rank((np.concatenate((Lambda3,L3),axis=1))) == Lambda3.shape[0])"
   ]
  },
  {
   "cell_type": "code",
   "execution_count": null,
   "metadata": {},
   "outputs": [],
   "source": [
    "np.linalg.inv(L3.T.dot(L3)).dot(L3.T.dot(R3n))"
   ]
  },
  {
   "cell_type": "code",
   "execution_count": null,
   "metadata": {
    "scrolled": true
   },
   "outputs": [],
   "source": [
    "# n_c = 4\n",
    "# for i,v in enumerate([(i,j,k) for i in range(1,n_c+1) for j in range(i,n_c+1) for k in range(j,n_c+1)]):\n",
    "#     print(i,v)"
   ]
  },
  {
   "cell_type": "code",
   "execution_count": null,
   "metadata": {},
   "outputs": [],
   "source": [
    "P, L, U = sp.linalg.lu(Lambda3,permute_l=False)\n",
    "L = P.dot(L)\n",
    "L_inv = np.linalg.inv(L)\n",
    "\n",
    "U_zero_rows = np.where(abs(np.diag(U)) < 1e-9)[0]\n",
    "print(U_zero_rows)\n",
    "L2 = L_inv[U_zero_rows,:]"
   ]
  },
  {
   "cell_type": "code",
   "execution_count": null,
   "metadata": {
    "scrolled": true
   },
   "outputs": [],
   "source": [
    "theta =np.linalg.inv(L2.dot(L3)).dot(L2).dot(Ny3.reshape((1,-1)).T)\n",
    "theta"
   ]
  }
 ],
 "metadata": {
  "kernelspec": {
   "display_name": "Python 3",
   "language": "python",
   "name": "python3"
  },
  "language_info": {
   "codemirror_mode": {
    "name": "ipython",
    "version": 3
   },
   "file_extension": ".py",
   "mimetype": "text/x-python",
   "name": "python",
   "nbconvert_exporter": "python",
   "pygments_lexer": "ipython3",
   "version": "3.6.5"
  }
 },
 "nbformat": 4,
 "nbformat_minor": 2
}
