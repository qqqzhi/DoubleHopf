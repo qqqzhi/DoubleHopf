{
 "cells": [
  {
   "cell_type": "markdown",
   "metadata": {},
   "source": [
    "### We are assuming that the state vector are in the following order:\n",
    "$$ x = [E_{qp}\\quad E_{dp}\\quad \\delta\\quad \\omega\\quad V_F\\quad V_A\\quad V_E]^T $$"
   ]
  },
  {
   "cell_type": "code",
   "execution_count": null,
   "metadata": {},
   "outputs": [],
   "source": [
    "from rushisland2 import *"
   ]
  },
  {
   "cell_type": "code",
   "execution_count": null,
   "metadata": {
    "scrolled": false
   },
   "outputs": [],
   "source": [
    "who"
   ]
  },
  {
   "cell_type": "code",
   "execution_count": null,
   "metadata": {},
   "outputs": [],
   "source": [
    "import numpy as np\n",
    "import numdifftools as nd\n",
    "import scipy as sp\n",
    "import pandas as pd\n",
    "import matplotlib.pyplot as plt\n",
    "import math\n",
    "%matplotlib inline \n",
    "pd.set_option('display.float_format', lambda x: '%.6f' % x)\n",
    "pd.set_option('display.max_columns', None)\n",
    "pd.set_option('display.max_rows', None)\n",
    "from scipy import optimize\n",
    "np.set_printoptions(precision=25)"
   ]
  },
  {
   "cell_type": "code",
   "execution_count": null,
   "metadata": {},
   "outputs": [],
   "source": [
    "# x = np.append(x,[5.769953284494019,5.400027691631498,1.045418310397626,1.077334874177618])\n",
    "sys_fun(x)\n",
    "# sol = optimize.root(sys_fun, x, method='hybr')\n",
    "# print(sol.fun)\n",
    "# print(sol.message)\n",
    "# print(sol.x)\n",
    "# print(sol.success)"
   ]
  },
  {
   "cell_type": "code",
   "execution_count": null,
   "metadata": {
    "scrolled": true
   },
   "outputs": [],
   "source": [
    "# x = sol.x"
   ]
  },
  {
   "cell_type": "code",
   "execution_count": null,
   "metadata": {
    "scrolled": false
   },
   "outputs": [],
   "source": [
    "n_c = 4\n",
    "n_s = 10\n",
    "n = x.shape[0]\n",
    "\n",
    "all_fun = [f_Eqp1,f_Edp1,f_delta1,f_w1,f_VF1,f_VA1,f_VE1,f_Eqp2,f_Edp2,f_delta2,f_w2,f_VF2,f_VA2,f_VE2]\n",
    "# J= np.array([nd.Jacobian(f)(x).ravel() for f in all_fun])\n",
    "J = Jacobian(x)\n",
    "#display(pd.DataFrame(J))\n",
    "lam, v = np.linalg.eig(J)\n",
    "lam"
   ]
  },
  {
   "cell_type": "code",
   "execution_count": null,
   "metadata": {},
   "outputs": [],
   "source": [
    "\"\"\" Weijun's Formula \"\"\"\n",
    "\n",
    "idx = np.where(abs(lam.real) < 1e-8)[0]\n",
    "\n",
    "Q = np.c_[v[:,idx[0]].imag, v[:,idx[0]].real, v[:,idx[2]].imag, v[:,idx[2]].real]\n",
    "i=0\n",
    "while i < len(lam):\n",
    "    if i in idx:\n",
    "        i += 1\n",
    "    else:\n",
    "        if lam[i].imag == 0:\n",
    "            Q=np.c_[Q,v[:,i]]\n",
    "            i += 1\n",
    "        else:\n",
    "            Q=np.c_[Q,v[:,i].imag,v[:,i].real]\n",
    "            i += 2\n",
    "            \n",
    "Q = Q/(abs(np.linalg.det(Q))**(1/n))\n",
    "P = np.linalg.inv(Q)\n",
    "J_cs = np.linalg.multi_dot([P,J,Q])\n",
    "display(pd.DataFrame(J_cs).applymap(lambda x: '{:,.8f}'.format(x)))"
   ]
  },
  {
   "cell_type": "code",
   "execution_count": null,
   "metadata": {
    "scrolled": false
   },
   "outputs": [],
   "source": [
    "\"\"\" Old \"\"\"\n",
    "# _, v = np.linalg.eig(J.T)\n",
    "# Q1 = np.block([\n",
    "#     [np.stack((v[:,4].real,v[:,4].imag,v[:,8].real,v[:,8].imag))],  # Here we know the 4-th and 8-th eigenvalues are what we interested\n",
    "#     [np.eye(10),np.zeros((10,4))]\n",
    "# ])\n",
    "# J1 = np.dot(np.dot(Q1,J),np.linalg.inv(Q1))\n",
    "# Q2 = np.block([\n",
    "#     [np.eye(4), np.zeros((4,10))],\n",
    "#     [sp.linalg.solve_sylvester(J1[4:,4:], -J1[0:4,0:4], J1[4:,0:4]), np.eye(10)] #AX+XB=Q\n",
    "# ]) \n",
    "# Q = np.dot(Q2,Q1)\n",
    "\n",
    "# J_cs = np.linalg.multi_dot([Q,J,np.linalg.inv(Q)])\n",
    "# del Q1\n",
    "# del Q2\n",
    "# del J1\n",
    "# display(pd.DataFrame(J_cs))"
   ]
  },
  {
   "cell_type": "code",
   "execution_count": null,
   "metadata": {
    "scrolled": true
   },
   "outputs": [],
   "source": [
    "Z2 = np.zeros((n,n*(n+1)//2))\n",
    "for i in range(n):\n",
    "    #hes = nd.Hessian(all_fun[i])(x) # The original Hessian of each f in all_fun\n",
    "    # hes = Hessian(all_fun[i], x)\n",
    "    hes = Hessian(x)[i]\n",
    "    hes[np.triu_indices(n,1)] *= 2  # double each element above the main diagonal\n",
    "    Z2[i] = hes[np.triu_indices(n)] # Keep upper triangular part\n",
    "Z2 = Z2/2 #divide all elements by 2, which corresponds to *2 in above line"
   ]
  },
  {
   "cell_type": "code",
   "execution_count": null,
   "metadata": {},
   "outputs": [],
   "source": [
    "Z3 = np.zeros((n,(n*(n+1)*(n+2)//6)))\n",
    "Z3_idx = [(i,j,k) for i in range(n) for j in range(i,n) for k in range(j,n)]\n",
    "for i in range(n):\n",
    "    #t = Trissian(all_fun[i], x)\n",
    "    t = Trissian(x)[i]\n",
    "    Z3[i] = [t[j] for j in Z3_idx]\n",
    "\n",
    "Z3_Gain = []\n",
    "for i in Z3_idx:\n",
    "    val = 1\n",
    "    for j in range(n):\n",
    "        val *= math.factorial(i.count(j))\n",
    "    Z3_Gain.append(val)\n",
    "Z3_Gain = np.diag(1/np.array(Z3_Gain))    \n",
    "Z3 = Z3.dot(Z3_Gain)\n",
    "# np.savetxt(\"Fxxx.csv\", Z3, delimiter=\",\")\n",
    "\n",
    "# Z3 = np.genfromtxt('Fxxx_goodcase1.csv', delimiter=',',dtype=float)\n",
    "# display(pd.DataFrame(Z3))"
   ]
  },
  {
   "cell_type": "code",
   "execution_count": null,
   "metadata": {},
   "outputs": [],
   "source": [
    "\"\"\" Qw = z\"\"\"\n",
    "W2 = np.linalg.multi_dot([np.linalg.inv(Q), Z2, T2_mat(n), np.kron(Q,Q), S2_mat(n)])\n",
    "W3 = np.linalg.multi_dot([np.linalg.inv(Q), Z3, T3_mat(n), np.kron(np.eye(n),T2_mat(n)), \n",
    "                      np.kron(np.kron(Q,Q), Q), \n",
    "                      np.kron(np.eye(n),S2_mat(n)), S3_mat(n)])"
   ]
  },
  {
   "cell_type": "code",
   "execution_count": null,
   "metadata": {},
   "outputs": [],
   "source": [
    "\"\"\" inv(Q)w = z\"\"\"\n",
    "# W2 = np.linalg.multi_dot([Q, Z2, T2_mat(n), np.kron(np.linalg.inv(Q),np.linalg.inv(Q)), S2_mat(n)])\n",
    "# W3 = np.linalg.multi_dot([Q, Z3, T3_mat(n), np.kron(np.eye(n),T2_mat(n)), \n",
    "#                       np.kron(np.kron(np.linalg.inv(Q),np.linalg.inv(Q)), np.linalg.inv(Q)), \n",
    "#                       np.kron(np.eye(n),S2_mat(n)), S3_mat(n)])"
   ]
  },
  {
   "cell_type": "code",
   "execution_count": null,
   "metadata": {
    "scrolled": true
   },
   "outputs": [],
   "source": [
    "J_c = J_cs[0:n_c,0:n_c]\n",
    "J_s = J_cs[n_c:,n_c:]\n",
    "V2_uu = np.zeros((n_s,n_c*(n_c+1)//2))\n",
    "W2_idx = [(i,j) for i in range(n) for j in range(i,n)]\n",
    "V2_uu_idx = [(i,j) for i in range(n_c) for j in range(i,n_c)]\n",
    "V2_uu_idx = [W2_idx.index(i) for i in V2_uu_idx]\n",
    "V2_uu = np.array([w[V2_uu_idx] for w in W2[n_c:n]])\n",
    "J_cbar = np.kron(np.eye(n_c),J_c) + np.array([np.kron(np.eye(n_c),row) for row in J_c]).reshape(-1,n_c**2)\n",
    "C2 = - np.linalg.multi_dot([T2_mat(n_c),J_cbar,S2_mat(n_c)])\n",
    "H_c2 = sp.linalg.solve_sylvester(J_s, C2, -V2_uu)"
   ]
  },
  {
   "cell_type": "code",
   "execution_count": null,
   "metadata": {},
   "outputs": [],
   "source": [
    "Uu2_idx = [(i,j) for i in range(n_c) for j in range(i,n_c)]\n",
    "Uu2_idx = [W2_idx.index(i) for i in Uu2_idx]\n",
    "Uu2 = np.array([w[Uu2_idx] for w in W2[0:n_c]])\n",
    "Uuv_idx = [(i,j) for i in range(n_c) for j in range(n_c,n)]\n",
    "Uuv_idx = [W2_idx.index(i) for i in Uuv_idx]\n",
    "Uuv = np.array([w[Uuv_idx] for w in W2[0:n_c]])"
   ]
  },
  {
   "cell_type": "code",
   "execution_count": null,
   "metadata": {},
   "outputs": [],
   "source": [
    "W3_idx = [(i,j,k) for i in range(n) for j in range(i,n) for k in range(j,n)]\n",
    "Uu3_idx = [(i,j,k) for i in range(n_c) for j in range(i,n_c) for k in range(j,n_c)]\n",
    "Uu3_idx = [W3_idx.index(i) for i in Uu3_idx]\n",
    "Uu3 = np.array([w[Uu3_idx] for w in W3[0:n_c]])\n",
    "Uuc3 = np.linalg.multi_dot([Uuv, np.kron(np.eye(n_c), H_c2), S3_mat(n_c)]) + Uu3"
   ]
  },
  {
   "cell_type": "code",
   "execution_count": null,
   "metadata": {},
   "outputs": [],
   "source": [
    "Lambda2 = np.kron(np.eye(n_c*(n_c+1)//2),J_c) + np.kron(C2.T, np.eye(n_c))\n",
    "assert(np.linalg.matrix_rank(Lambda2) == Lambda2.shape[0])\n",
    "H_2n = sp.linalg.solve_sylvester(J_c, C2, -Uu2)\n",
    "R_2n = np.dot(J_c,H_2n) + np.dot(H_2n,C2) + Uu2"
   ]
  },
  {
   "cell_type": "code",
   "execution_count": null,
   "metadata": {},
   "outputs": [],
   "source": [
    "H_bar = np.kron(np.eye(n_c),np.dot(H_2n,T2_mat(n_c))) + np.array([np.kron(np.eye(n_c),row) for row in np.dot(H_2n,T2_mat(n_c))]).reshape(-1,n_c**3)\n",
    "R_bar = np.kron(np.eye(n_c),np.dot(R_2n,T2_mat(n_c))) + np.array([np.kron(np.eye(n_c),row) for row in np.dot(R_2n,T2_mat(n_c))]).reshape(-1,n_c**3)\n",
    "Ny3 = np.linalg.multi_dot([Uu2,T2_mat(n_c),H_bar,np.kron(np.eye(n_c),S2_mat(n_c)),S3_mat(n_c)]) + Uuc3 - np.linalg.multi_dot([H_2n,T2_mat(n_c),R_bar,np.kron(np.eye(n_c),S2_mat(n_c)),S3_mat(n_c)])\n",
    "J_bar = np.kron(np.eye(n_c**2),J_c) + np.kron(np.eye(n_c), np.array([np.kron(np.eye(n_c),row) for row in J_c]).reshape(-1,n_c**2)) + np.array([np.kron(np.eye(n_c**2),row) for row in J_c]).reshape(-1,n_c**3) \n",
    "C3 = -np.linalg.multi_dot([T3_mat(n_c),np.kron(np.eye(n_c),T2_mat(n_c)),J_bar,np.kron(np.eye(n_c),S2_mat(n_c)),S3_mat(n_c)])"
   ]
  },
  {
   "cell_type": "code",
   "execution_count": null,
   "metadata": {},
   "outputs": [],
   "source": [
    "Lambda3 = np.kron(J_c,np.eye(n_c*(n_c+1)*(n_c+2)//6)) + np.kron(np.eye(n_c),C3.T)\n",
    "np.linalg.matrix_rank(Lambda3)"
   ]
  },
  {
   "cell_type": "code",
   "execution_count": null,
   "metadata": {},
   "outputs": [],
   "source": [
    "# lam, _ = np.linalg.eig(Lambda3)\n",
    "# lam"
   ]
  },
  {
   "cell_type": "code",
   "execution_count": null,
   "metadata": {
    "scrolled": true
   },
   "outputs": [],
   "source": [
    "L3 = np.zeros((80,8))\n",
    "L3[[0,4,21,30],[0,0,0,0]] = 1 # a1_R\n",
    "L3[[7,9,33,35],[2,2,2,2]] = 1 # a2_R\n",
    "L3[[56,58,77,79],[4,4,4,4]] = 1 # b1_R\n",
    "L3[[42,51,63,72],[6,6,6,6]] = 1 # b2_R\n",
    "\n",
    "L3[[1,10],[1,1]] = -1\n",
    "L3[[20,24],[1,1]] = 1   #a1_I\n",
    "L3[[13,15],[3,3]] = -1\n",
    "L3[[27,29],[3,3]] = 1    #a2_I\n",
    "L3[[57,59],[5,5]] = -1\n",
    "L3[[76,78],[5,5]] = 1    #b1_I\n",
    "L3[[43,52],[7,7]] = -1\n",
    "L3[[62,71],[7,7]] = 1    #b2_I\n",
    "\n",
    "# np.linalg.matrix_rank(L3)\n",
    "# print(np.linalg.matrix_rank((np.concatenate((Lambda3,L3),axis=1))))\n",
    "# assert(np.linalg.matrix_rank((np.concatenate((Lambda3,L3),axis=1))) == Lambda3.shape[0])"
   ]
  },
  {
   "cell_type": "code",
   "execution_count": null,
   "metadata": {},
   "outputs": [],
   "source": [
    "P, L, U = sp.linalg.lu(Lambda3,permute_l=False)\n",
    "L = P.dot(L)\n",
    "L_inv = np.linalg.inv(L)\n",
    "\n",
    "U_zero_rows = np.where(abs(np.diag(U)) < 1e-8)[0]\n",
    "print(U_zero_rows)\n",
    "L2 = L_inv[U_zero_rows,:]"
   ]
  },
  {
   "cell_type": "code",
   "execution_count": null,
   "metadata": {
    "scrolled": true
   },
   "outputs": [],
   "source": [
    "theta =np.linalg.inv(L2.dot(L3)).dot(L2).dot(Ny3.reshape((1,-1)).T)\n",
    "theta"
   ]
  },
  {
   "cell_type": "code",
   "execution_count": null,
   "metadata": {},
   "outputs": [],
   "source": [
    "# def Jacobian(f_test, x0):\n",
    "#     \"\"\"\n",
    "#     This function calculates the 1st order derivative of a function f: R^n -> R\n",
    "#     input: \n",
    "#         f_test is the function\n",
    "#         x0 where the 1st order want to be calcuated\n",
    "#     return: 1-D row vector\n",
    "#     \"\"\"\n",
    "#     Jac = np.zeros(x0.shape[0])\n",
    "#     for i in range(x0.shape[0]):\n",
    "#         h = 1e-6\n",
    "#         xp1 = np.array(x0, copy=True) \n",
    "#         xp1[i] += h\n",
    "#         #print(xp1)\n",
    "#         xp2 = np.array(x0, copy=True) \n",
    "#         xp2[i] += 2*h\n",
    "#         #print(xp2)\n",
    "#         xm1 = np.array(x0, copy=True) \n",
    "#         xm1[i] -= h\n",
    "#         #print(xm1)\n",
    "#         xm2 = np.array(x0, copy=True) \n",
    "#         xm2[i] -= 2*h\n",
    "#         #print(xm2)\n",
    "#         Jac[i] = (-f_test(xp2) + 8*f_test(xp1)- 8*f_test(xm1) + f_test(xm2))/(12*h)\n",
    "#     return Jac\n",
    "\n",
    "# def Hessian(f_test, x0):\n",
    "#     \"\"\"\n",
    "#     This function calculates the 2nd order derivative of a function f: R^n -> R\n",
    "#     input: \n",
    "#         f_test is the function\n",
    "#         x0 where the 2nd order want to be calcuated\n",
    "#     return: 2-D matrix\n",
    "#     \"\"\"\n",
    "#     Hes = np.zeros((x0.shape[0],x0.shape[0]))\n",
    "#     for i in range(x0.shape[0]):\n",
    "#         h = 1e-4\n",
    "#         xp1 = np.array(x0, copy=True) \n",
    "#         xp1[i] += h\n",
    "#         #print(xp1)\n",
    "#         xp2 = np.array(x0, copy=True) \n",
    "#         xp2[i] += 2*h\n",
    "#         #print(xp2)\n",
    "#         xm1 = np.array(x0, copy=True) \n",
    "#         xm1[i] -= h\n",
    "#         #print(xm1)\n",
    "#         xm2 = np.array(x0, copy=True) \n",
    "#         xm2[i] -= 2*h\n",
    "#         #print(xm2)\n",
    "#         Hes[i] = (-Jacobian(f_test, xp2) + 8*Jacobian(f_test, xp1)- 8*Jacobian(f_test, xm1) + Jacobian(f_test, xm2))/(12*h)\n",
    "#     return Hes\n",
    "# def Trissian(f_test, x0):\n",
    "#     \"\"\"\n",
    "#     This function calculates the 3rd order derivative of a function f: R^n -> R\n",
    "#     input: \n",
    "#         f_test is the function\n",
    "#         x0 where the 3rd order want to be calcuated\n",
    "#     return: 3-D matrix\n",
    "#     \"\"\"\n",
    "#     Trissian = np.zeros((x0.shape[0],x0.shape[0],x0.shape[0]))\n",
    "#     for i in range(x0.shape[0]):\n",
    "#         h = 1e-4\n",
    "#         xp1 = np.array(x0, copy=True) \n",
    "#         xp1[i] += h\n",
    "#         #print(xp1)\n",
    "#         xp2 = np.array(x0, copy=True) \n",
    "#         xp2[i] += 2*h\n",
    "#         #print(xp2)\n",
    "#         xm1 = np.array(x0, copy=True) \n",
    "#         xm1[i] -= h\n",
    "#         #print(xm1)\n",
    "#         xm2 = np.array(x0, copy=True) \n",
    "#         xm2[i] -= 2*h\n",
    "#         #print(xm2)\n",
    "#         #Trissian[i] = (-nd.Hessian(f_test)(xp2) + 8*nd.Hessian(f_test)(xp1)- 8*nd.Hessian(f_test)(xm1) + nd.Hessian(f_test)(xm2))/(12*h)\n",
    "#         Trissian[i] = (-Hessian(f_test, xp2) + 8*Hessian(f_test, xp1)- 8*Hessian(f_test, xm1) + Hessian(f_test, xm2))/(12*h)\n",
    "#     return Trissian"
   ]
  },
  {
   "cell_type": "markdown",
   "metadata": {},
   "source": [
    "# Notations\n",
    "\n",
    "$$ \\dot{z} = f(z),\\quad f(z_0)=0 $$\n",
    "$$ \\dot{\\Delta z} = J\\Delta z + \\frac{1}{2!}  \\Delta z^T H \\Delta z + H.O.T(z)$$\n",
    "$$ \\dot{\\Delta z} = J\\Delta z + \\frac{1}{2!}  Z_2*B_z^2 + H.O.T(z)$$\n",
    "Let $w = Q\\Delta z$, and ignore the $\\Delta$ sign then\n",
    "$$Q^{-1}\\dot{w} = JQ^{-1} w + \\frac{1}{2!} (Q^{-1}w)^T H  (Q^{-1}w) + H.O.T(Q^{-1}w)$$\n",
    "$$\\dot{w} = QJQ^{-1} w + Q \\frac{1}{2!} w^T (Q^{-T}H Q^{-1})w + Q * H.O.T(Q^{-1}w)$$ \n",
    "$$\\dot{w} = \\begin{bmatrix} J_c & 0\\\\ 0 & J_s \\end{bmatrix} w + Q \\frac{1}{2!} w^T H_Q w + Q * H.O.T(Q^{-1}w)$$\n",
    "$$\\dot{w} = \\begin{bmatrix} J_c & 0\\\\ 0 & J_s \\end{bmatrix} w + Q \\frac{1}{2!}  \\begin{bmatrix} w^T H_Q[0] w \\\\  w^T H_Q[1] w \\\\ ...  \\end{bmatrix} + Q * H.O.T(Q^{-1}w)$$ \n",
    "$$\\dot{w} = \\begin{bmatrix} J_c & 0\\\\ 0 & J_s \\end{bmatrix} w + W_2 B_w^2 + W_3 B_w^3 + ...$$ \n",
    "where $W_2$ $W_3$ are constant matrices and $B_w^2$ and $B_w^3$ are column vectors deriving from $w \\otimes w$ and $w \\otimes w \\otimes w$\n",
    "\n",
    "And we assume that $$w = [u \\quad v]^T$$ where $u$ is center variable, $v$ is stable variable\n",
    "\n",
    "Now assume $B^2_{u}$ is $u\\otimes u$ (note that this is a long column vector, so we do not need the $vec$ sign) but ij terms only appear once: e.g. if $u = [u_1 u_2 u_3]^T$, then $B^2_{u}=[u_1^2, u_2u_1, u_3u_1, u_2^2, u_3u_2, u_3^2]$\n",
    "\n",
    "So we also need two transformation matrices $T$ and $S$ which doing transformations between $B_{uu}$ and $u\\otimes u$ like: $$B^2_{u}=T_2 (u\\otimes u)$$  \n",
    "$$u\\otimes u=S_2 B^2_{u}$$ \n",
    "\n",
    "similarly we will have  \n",
    "$$B^3_{u}=T_3 (u\\otimes B^2_{u})$$  \n",
    "$$(u\\otimes B^2_{u})=S_3 B^3_{u}$$ "
   ]
  },
  {
   "cell_type": "markdown",
   "metadata": {},
   "source": [
    "### Now we calculate Jacobian matrix $J$ and  the tranformation matrix $Q$"
   ]
  },
  {
   "cell_type": "markdown",
   "metadata": {},
   "source": [
    "### Now we can 2nd and 3rd order matrices $W_2$ and $W_3$ \n",
    "$$\\dot{w} = \\begin{bmatrix} J_c & 0\\\\ 0 & J_s \\end{bmatrix} w + W_2 B_w^2 + W_3 B_w^3 + ...$$ \n",
    "Since originally we are calculating hessian matrices of $f(z)$, then we need to make transformation from $z$ to $w$, thus\n",
    "$$ \\frac{1}{2} Q Z_2 B_z^2 = \\frac{1}{2} Q Z_2[T_2 (z \\otimes z)] = \\frac{1}{2} Q Z_2 T_2 (Q^{-1} w \\otimes Q^{-1} w) = \\frac{1}{2} Q Z_2 T_2 (Q^{-1}\\otimes Q^{-1})(w\\otimes w) = \\frac{1}{2} Q Z_2 T_2 (Q^{-1}\\otimes Q^{-1})S_2 B_w^2 = W_2 B_w^2$$\n",
    "Thus\n",
    "$$\\frac{1}{2} Q Z_2 T_2 (Q^{-1}\\otimes Q^{-1})S_2 = W_2 $$\n",
    "\n",
    "For 3rd order\n",
    "$$\\frac{1}{3!} Q Z_3 B_z^3 = \\frac{1}{3!} Q Z_3 T_3 (z \\otimes B_z^2) = \\frac{1}{3!} Q Z_3 T_3 (z \\otimes T_2(z \\otimes z))$$\n",
    "where\n",
    "\n",
    "\\begin{align}\n",
    "&  z \\otimes T_2(z \\otimes z) \\\\\n",
    "& = (I\\otimes T_2)(z \\otimes z \\otimes z) \\\\\n",
    "& = (I\\otimes T_2)(Q^{-1}w \\otimes Q^{-1}w \\otimes Q^{-1}w) \\\\\n",
    "& = (I\\otimes T_2)(Q^{-1} \\otimes Q^{-1} \\otimes Q^{-1})(w \\otimes w \\otimes w) \\\\\n",
    "& = (I\\otimes T_2)(Q^{-1} \\otimes Q^{-1} \\otimes Q^{-1})(w \\otimes S_2 B_w^2) \\\\\n",
    "& = (I\\otimes T_2)(Q^{-1} \\otimes Q^{-1} \\otimes Q^{-1})(I \\otimes S_2 )(w \\otimes B_w^2) \\\\\n",
    "& = (I\\otimes T_2)(Q^{-1} \\otimes Q^{-1} \\otimes Q^{-1})(I \\otimes S_2 ) S_3 B_w^3\n",
    "\\end{align}\n",
    "\n",
    "Thus\n",
    "$$\\frac{1}{3!} Q Z_3 B_z^3 = \\frac{1}{3!} Q Z_3 T_3 (I\\otimes T_2)(Q^{-1} \\otimes Q^{-1} \\otimes Q^{-1})(I \\otimes S_2 ) S_3 B_w^3 = W_3 B_w^3$$\n"
   ]
  },
  {
   "cell_type": "markdown",
   "metadata": {},
   "source": [
    "### Now we are able to calculate center manifold up to 2nd order terms, which we denote it by:\n",
    "$$v = h_{c2}(u) = \\color{red}{H_{c2}}B_u^2$$\n",
    "where $\\color{red}{H_{c2}} \\in \\mathbb{R}^{n_s \\times n_c(n_c+1)/2}$ is the matrix we want to find; the subscript $c$ means center manifold (to distinguish it from normal form later), and 2 means 2nd order\n",
    "\n",
    "Then according to equation:\n",
    "$$\\dot{w} = \\begin{bmatrix} J_c & 0\\\\ 0 & J_s \\end{bmatrix} w + W_2 B_w^2 + W_3 B_w^3 + ...$$ \n",
    "if we express the term $W_2 B_w^2$ in form of $u$ and $v$, we will have\n",
    "$$ \\dot{u} = J_c u + f_2(u,v) = J_c u + \\color{red}{U_u^2} B_u^2 + \\color{red}{U_{uv}} B_{uv} + U_v^2 B_v^2 + ... $$\n",
    "$$ \\dot{v} = J_s v + g_2(u,v) = J_s v + \\color{red}{V_u^2} B_u^2 + V_{uv} B_{uv} + V_v^2 B_v^2 + ... $$\n",
    "\n",
    "Since we can find $\\color{red}{H_{c2}}$ by solving the sylvester equation: $\\color{red}{J_s H_{c2} + H_{c2} C_2 = -V_u^2}$ so we need to calculate the matrix of $V_u^2$\n",
    "\n",
    "where $C_2$ comes from\n",
    "$$ (DB_u^2)J_c u = T_2 D(u \\otimes u) J_c u = T_2 \\bar{J_c}(u \\otimes u) = T_2 \\bar{J_c} S_2 B_u^2 = -C_2 B_u^2$$\n",
    "and\n",
    "$$\\bar{J_c} = (I_n \\otimes J_c) + \\begin{pmatrix} I_n \\otimes J_1\\\\I_n \\otimes J_2 \\\\ ... \\\\I_n \\otimes J_n \\end{pmatrix}$$ where each $J_i$ is the i-th row of matrix $J_c$\n",
    "\n",
    "Now we construct matrix <font color = 'red'>$V_u^2$, $\\bar{J_c}$ $C_2$ $H_{c2}$ </font>"
   ]
  },
  {
   "cell_type": "markdown",
   "metadata": {},
   "source": [
    "### Now we can plug $v = {H_{c2}}B_u^2$ into equation of $\\dot{u}$, then we can get up to the 3rd order terms\n",
    "Since we have \n",
    "$$ \\dot{u} = J_c u + f_2(u,v) + f_3(u,v) + ... $$\n",
    "by plugging \n",
    "$$v = h_{c2}(u) = H_{c2} B_u^2$$\n",
    "into the above equation, for third order terms of $u$, we only need:\n",
    "$$ \\dot{u} = J_c u + f_2(u,H_{c2} B_u^2) + f_3(u,0) + ... $$\n",
    "Let\n",
    "$$f_2(u,v) = U_u^{2} B_u^2 + U_{uv} B_{uv} + U_v^{2} B_v^2$$\n",
    "and \n",
    "$$f_3(u,0) = U_u^{3} B_u^3$$\n",
    "Then we can see that $B_{uv}$ is in 3rd order of $u$. $B_v^2$ is in 4th order of $u$, which is ignored here.\n",
    "So the center manifold up to 3rd order of $u$ could be expressed as:\n",
    "$$\\dot{u} = J_c u + U_u^{2} B_u^2 + U_{uv} B_{uv} + U_u^{3} B_u^3 + O(u^4) $$\n",
    "Since \n",
    "$$B_{uv} = u \\otimes v = u \\otimes H_{c2} B_u^2 = (I_{n_c} \\otimes H_{c2})(u \\otimes B_u^2) = (I_{n_c} \\otimes H_{c2})S_3 B_u^3$$\n",
    "Thus\n",
    "$$\\dot{u} = J_c u + U_u^{2} B_u^2 + U_{uv} (I_{n_c} \\otimes H_{c2})S_3 B_u^3 + U_u^{3} B_u^3 + O(u^4) = J_c u + \\color{red}{U_u^{2}} B_u^2 + [\\color{red}{U_{uv}} (I_{n_c} \\otimes H_{c2})\\color{red}{S_3} + \\color{red}{U_u^{3}}] B_u^3 + O(u^4)$$\n",
    "\n",
    "So here in order to get the know the equation of $\\dot{u}$ up to 3rd order, we need to know the following matrices: <font color = 'red'>$U_u^{2}$, $U_{uv}$, $S_3$, $U_u^{3}$</font>.\n",
    "\n",
    "Here in order to know $U_u^{3}$, which comes from $f_3(u,0)$, we need to calculate matrix $W_3$ in equation $\\dot{w} = \\begin{bmatrix} J_c & 0\\\\ 0 & J_s \\end{bmatrix} w + W_2 B_w^2 + W_3 B_w^3 + ...$"
   ]
  },
  {
   "cell_type": "markdown",
   "metadata": {},
   "source": [
    "### Firstly we calculate $U_u^2$ and $U_{uv}$. Both of them comes from $W_2$"
   ]
  },
  {
   "cell_type": "markdown",
   "metadata": {},
   "source": [
    "### Now we are ready to calculate matrix $U_u^3$. \n",
    "But in order to calculate it, we need to calculate the 3rd order derivative matrix $W_3$, then formulize $U_u^3$\n",
    "\n",
    "Now we have known the following matrices: <font color = 'red'>$U_u^{2}$, $U_{uv}$, $S_3$  and $U_u^{3}$ </font>\n",
    "\n",
    "Then we can calculate \n",
    "$$U_{uc}^3 = U_{uv} (I_{n_c} \\otimes H_{c2})S_3 + U_u^{3}$$ \n",
    "in the center manifold:\n",
    "$$\\dot{u} =  J_c u + U_u^{2} B_u^2 + [U_{uv} (I_{n_c} \\otimes H_{c2})S_3 + U_u^{3}] B_u^3 + O(u^4) = J_c u + U_u^{2} B_u^2 + U_{uc}^3 B_u^3 + O(u^4)$$"
   ]
  },
  {
   "cell_type": "markdown",
   "metadata": {},
   "source": [
    "### <font color='red'>Now we've got the flow $\\dot{u}$ on the center manifold up to 3rd order, the next step is to calculate the normal form</font>\n",
    "\n",
    "<font color='red'>$$\\dot{u} = J_c u + U_u^{2} B_u^2 + U_{uc}^3 B_u^3 + O(u^4)$$\n",
    "至此，我们只需要研究这个方程，我们已经知道$J_c$, $U_u^{2}$, $U_{uc}$,那么接下来就是要算normalform\n",
    "</font>\n",
    "#### First, we calculate the normal form up to the 2nd order:\n",
    "$$u = y + \\color{red}{H_{2n}} B_y^2$$\n",
    "where we want to find matrix $\\color{red}{H_{2n}}\\in \\mathbb{R}^{n_c \\times n_c(n_c+1)/2}$\n",
    "\n",
    "Then by plugging it into the above equation, we will get:\n",
    "$$(I + H_{2n} DB_y^2) \\dot{y} = J_c (y + H_{2n} B_y^2) + U_u^2 B_u^2 + U_{uc}^3 B_u^3 + O(u^4)$$\n",
    "<font color='red'>$$\\dot{y} = (I + H_{2n} DB_y^2)^{-1} [J_c y + J_c H_{2n} B_y^2 + U_u^2 B_u^2 + U_{uc}^3 B_u^3 + O(u^4)]$$</font>\n",
    "Since by some derivation, we know:\n",
    "$$B_u^2 = B_y^2 + T_2\\bar{H}(I\\otimes S_2)S_3 B_y^3$$\n",
    "where\n",
    "$$\\bar{H} = (I_n \\otimes H) + \\begin{pmatrix} I_n\\otimes h_1 \\\\I_n\\otimes h_2 \\\\ \\vdots \\\\ I_n\\otimes h_n \\\\ \\end{pmatrix}$$\n",
    "$H = H_{2n}T_2$ ($T_2=T_2(n_c)$) and $h_1$ ... $h_n$ are rows of matrix $H$.\n",
    "In the above equations, if we assume $u\\in \\mathbb{R}^{n_c}$, then $H_{2n} \\in \\mathbb{R}^{n_c \\times \\frac{n_c(n_c+1)}{2}}$, $H \\in \\mathbb{R}^{n_c\\times n_c^2}$, $\\bar{H} \\in \\mathbb{R}^{n_c^2 \\times n_c^3}$, $S_2=S_2(n_c)$, $S_3=S_3(n_c)$\n",
    "\n",
    "Then\n",
    "<font color='red'>$$\\dot{y} = (I - H_{2n} DB_y^2)  [J_c y + J_c H_{2n} B_y^2 + U_u^2 B_y^2 + U_u^2 T_2\\bar{H}(I\\otimes S_2)S_3 B_y^3 + U_{uc}^3 B_u^3 + O(u^4)]$$</font>\n",
    "**Then up to 2nd order terms on the right hand side is**:\n",
    "$$\\dot{y} = J_c y + J_c H_{2n} B_y^2 + U_u^2 B_y^2 - H_{2n} DB_y^2 J_c y + O(y^3)$$\n",
    "If we denote $- DB_y^2 J_c y = \\color{red}{C_2} B_y^2$ as we did in calculation of center manifold, then:\n",
    "$$\\dot{y} = J_c y + [J_c H_{2n} + U_u^2 + H_{2n} C_2] B_y^2 + O(y^3)$$\n",
    "Due to resonance terms, $J_c H_{2n} + H_{2n} C_2 + U_u^2 $ might not be totally eliminated, so we let\n",
    "<font color='red'>$$J_c H_{2n} + H_{2n} C_2 = - U_u^2 + R_{2n} $$</font>\n",
    "where matrix $R_{2n}$ represents resonance terms in normal form.\n",
    "\n",
    "Now the problem is trying to solve for $H_{2n}$ which makes $R_{2n}$ as simple as possible, where $J_c$, $U_{u}^2$ and $C_2$ are known\n",
    "\n",
    "Since $J_c \\in \\mathbb{R}^{n_c\\times n_c}$ , $H_{2n} \\in \\mathbb{R}^{n_c\\times \\frac{n_c(n_c+1)}{2}}$  and $C_2 \\in \\mathbb{R}^{\\frac{n_c(n_c+1)}{2} \\times \\frac{n_c(n_c+1)}{2}}$\n",
    "First we could transform the equation into:\n",
    "$$\\underbrace{(I_{\\frac{n_c(n_c+1)}{2}}\\otimes J_c + C_2^T \\otimes I_{n_c})}_\\text{$\\Lambda_2$} \\cdot \\text{vec} (H_{2n}) = -\\text{vec}(U_u^2) + \\text{vec}(R_{2n})$$\n",
    "\n",
    "\n",
    "Since we know that for Hopf Bifurcation, the 2nd order terms in normal form will all be eliminated, so $\\Lambda$ should be a full rank matrix and the resonance term $R_{2n}$ will not exist, which is also verified below. Then we could solve for $H_{2n}$ by directly solving the Sylvester equation $J_c H_{2n} + H_{2n} C_2 = - U_u^2$"
   ]
  },
  {
   "cell_type": "markdown",
   "metadata": {},
   "source": [
    "### Next, we calculate the normal form up to the 3rd order terms\n",
    "From previous equation:\n",
    "$$\\dot{y} = (I + H_{2n} DB_y^2)^{-1} [J_c y + J_c H_{2n} B_y^2 + U_u^2 B_u^2 + U_{uc}^3 B_u^3 + O(u^4)]$$\n",
    "<font color='red'>$$\\dot{y} = (I - H_{2n} DB_y^2)  [J_c y + J_c H_{2n} B_y^2 + U_u^2 B_y^2 + U_u^2 T_2\\bar{H}(I\\otimes S_2)S_3 B_y^3 + U_{uc}^3 B_u^3 + O(u^4)]$$</font>\n",
    "Since if we only consider 3rd order terms, $U_{uc}^3 B_u^3$ can be expressed as:\n",
    "$$ U_{uc}^3 B_u^3 = U_{uc}^3 B_y^3$$\n",
    "So \n",
    "$$\\dot{y} = [I - \\underbrace{H_{2n} DB_y^2}_\\text{O(y)} + \\underbrace{(H_{2n} DB_y^2)(H_{2n} DB_y^2)}_\\text{O(y^2)}+O(y^3)] [J_c y + \\underbrace{(J_c H_{2n} + U_u^2) B_y^2}_\\text{O(y^2)} + \\underbrace{[U_u^2 T_2\\bar{H}(I\\otimes S_2)S_3 + U_{uc}^3] B_y^3}_\\text{O(y^3)} + O(u^4)]$$\n",
    "Thus the 3rd order terms on the right hand side is:\n",
    "\n",
    "\\begin{align}\n",
    "& [U_u^2 T_2\\bar{H}(I\\otimes S_2)S_3 + U_{uc}^3] B_y^3 - H_{2n} DB_y^2 (J_c H_{2n} + U_u^2) B_y^2 + (H_{2n} DB_y^2)(H_{2n} DB_y^2)J_c y \\\\\n",
    "= & [U_u^2 T_2\\bar{H}(I\\otimes S_2)S_3 + U_{uc}^3] B_y^3 - H_{2n} DB_y^2 [(J_c H_{2n} + U_u^2) B_y^2 - H_{2n} DB_y^2 J_c y] \\\\\n",
    "= & [U_u^2 T_2\\bar{H}(I\\otimes S_2)S_3 + U_{uc}^3] B_y^3 - H_{2n} DB_y^2 [(J_c H_{2n} + U_u^2) B_y^2 + H_{2n} C_2 B_y^2] \\\\\n",
    "= & [U_u^2 T_2\\bar{H}(I\\otimes S_2)S_3 + U_{uc}^3] B_y^3 - H_{2n} \\underbrace{DB_y^2 R_{2n} B_y^2}_\\text{O(y^3)} \n",
    "\\end{align}\n",
    "\n",
    "where the sizes of matrices are:\n",
    "\\begin{align}\n",
    "& H_{2n}, U_{u2} --  n_c \\times \\frac{n_c(n_c+1)}{2}  \\\\\n",
    "& T_2(n_c) -- \\frac{n_c(n_c+1)}{2} \\times n_c^2  \\\\\n",
    "& \\bar{H}, \\bar{R} -- n_c^2 \\times n_c^3  \\\\\n",
    "& I\\otimes S_2(n_c) -- (n_c \\times n_c) \\otimes (n_c^2 \\times \\frac{n_c(n_c+1)}{2})  \\\\\n",
    "& S_3(n_c) -- \\frac{n_c^2 n_c(n_c+1)}{2} \\times \\frac{n_c(n_c+1)(n_c+2)}{3!}  \\\\\n",
    "& U_{uc}^3 -- n_c \\times \\frac{n_c(n_c+1)(n_c+2)}{3!}  \\\\\n",
    "\\end{align}\n",
    "\n",
    "So we only need to calculate \n",
    "$$ DB_y^2 R_{2n} B_y^2 = T_2 \\bar{R} (I \\otimes S_2) S_3 B_y^3$$\n",
    "where $$\\bar{R} = (I_n\\otimes R) + \\begin{pmatrix} I_n\\otimes r_1 \\\\ I_n\\otimes r_2 \\\\ \\vdots \\\\ I_n\\otimes r_n \\end{pmatrix} $$\n",
    "where $R = R_{2n}T_2$ and $r_i$ are rows of $R$\n",
    "\n",
    "Thus the 3rd order terms are:\n",
    "$$N_y^3 B_y^3 = [U_u^2 T_2\\bar{H}(I\\otimes S_2)S_3 + U_{uc}^3 - H_{2n} T_2 \\bar{R} (I \\otimes S_2) S_3 ]B_y^3$$\n",
    "where\n",
    "$$\\bar{H} = (I_n \\otimes H) + \\begin{pmatrix} I_n\\otimes h_1 \\\\I_n\\otimes h_2 \\\\ \\vdots \\\\ I_n\\otimes h_n \\\\ \\end{pmatrix}$$\n",
    "$H = H_{2n}T_2$ and $h_1$ ... $h_n$ are rows of matrix $H$\n",
    "\n",
    "Now the normal form is:\n",
    "$$\\dot{y} = J_c y + R_{2n}B_y^2 + N_y^3 B_y^3 + O(y^4)$$\n",
    "\n",
    "Now we want to simply $N_y^3$ as many as possible, so we consider another 3rd order nonlinear transformation \n",
    "$$ y = z + H_{3n}B_z^3$$\n",
    "\n",
    "Here if we assume $y,z \\in \\mathbb{R}^{n_c}$ then $H_{3n} \\in \\mathbb{R}^{n_c \\times \\frac{n_c(n_c+1)(n_c+2)}{3!}}$\n",
    "\n",
    "Similarly, we will have \n",
    "$$\\dot{z} = J_c z + R_{2n}B_z^2 + R_{3n} B_z^3 + O(z^4)$$\n",
    "where\n",
    "$$R_{3n} = J_c H_{3n} + H_{3n}C_3 + N_y^3$$\n",
    "where \n",
    "$$C_3 B_z^3 = -DB_z^3 J_c z$$ and $$C_3 = -T_3(I_n\\otimes T_2)\\bar{J}(I_n\\otimes S_2)S_3$$\n",
    "where\n",
    "$$\\bar{J} = (I_{n^2} \\otimes J_c) + I_n \\otimes \\begin{pmatrix} I_n\\otimes jc_1 \\\\I_n\\otimes jc_2 \\\\ \\vdots \\\\ I_n\\otimes jc_n \\\\ \\end{pmatrix} + \\begin{pmatrix} I_{n^2}\\otimes jc_1 \\\\I_{n^2}\\otimes jc_2 \\\\ \\vdots \\\\ I_{n^2}\\otimes jc_n \\\\ \\end{pmatrix}$$\n",
    "\n",
    "$jc_i$ are rows of matrix $J_c$\n",
    "\n",
    "So here we have $R_{3n} \\in \\mathbb{R}^{n_c \\times \\frac{n_c(n_c+1)(n_c+2)}{3!}}$, $C_3 \\in \\mathbb{R}^{\\frac{n_c(n_c+1)(n_c+2)}{3!} \\times \\frac{n_c(n_c+1)(n_c+2)}{3!}}$, \n",
    "\n",
    "So in order to calculate $R_{3n}$, first we need to calculate $N_y^3$.\n",
    "Let's calcuate $\\bar{H}$ and $\\bar{R}$ first"
   ]
  },
  {
   "cell_type": "markdown",
   "metadata": {},
   "source": [
    "Then we tranform the equation:\n",
    "$$R_{3n} = J_c H_{3n} + H_{3n}C_3 + N_y^3$$\n",
    "into:\n",
    "$$(I_{\\frac{n_c(n_c+1)(n_c+2)}{3!}} \\otimes J_c + C_3^T \\otimes I_{n_c}) * \\text{vec}(H_{3n}) = \\text{vec}(R_{3n}) - \\text{vec}(N_y^3)$$\n",
    "Let\n",
    "$$\\Lambda_3 = I_{\\frac{n_c(n_c+1)(n_c+2)}{3!}} \\otimes J_c + C_3^T \\otimes I_{n_c}$$\n",
    "<font color='red'>\n",
    "Here we are assuming the $vec$ operation is taking the column vectors of the matrix. However, it is more easily for us to interprete the results if we assume that $vec$ is taking the row vectors of the matrix. But here the $\\Lambda_3$ would be changing to\n",
    "    $$ \\Lambda_3 = J_c \\otimes I_{\\frac{n_c(n_c+1)(n_c+2)}{3!}} + I_{n_c} \\otimes C_3^T$$\n",
    "</font>"
   ]
  },
  {
   "cell_type": "markdown",
   "metadata": {},
   "source": [
    "Now Since we know that the column vector $-vec(N_y^3)$ is in the column space of matrix $\\Lambda_3$ but vector $vec(R_3^n)$ is not. This means vector $vec(R_3^n)$ is in the complement space of the column space of matrix $\\Lambda_3$. Since we have already know what the normal form with 3rd order resonance terms looks like (shown below), so we could easiliy know the basis of the space where vector $vec(R_3^n)$ is in."
   ]
  },
  {
   "cell_type": "markdown",
   "metadata": {},
   "source": [
    "$$ \\dot{z}=i\\omega_1z+a_1z^2\\bar{z}+a_2zw\\bar{w}+\\ldots $$ \n",
    "$$ \\dot{w}=i\\omega_2w+b_1w^2\\bar{w}+b_2z\\bar{z}w+\\ldots $$\n",
    "\n",
    "\n",
    "$$ \\dot{x_1}=-\\omega_1x_2+(a_1^Rx_1-a_1^Ix_2)(x_1^2+x_2^2)+(a_2^Rx_1-a_2^Ix_2)(x_3^2+x_4^2)$$\n",
    "$$ \\dot{x_2}=\\omega_1x_1+(a_1^Rx_2+a_1^Ix_1)(x_1^2+x_2^2)+(a_2^Rx_2+a_2^Ix_1)(x_3^2+x_4^2) $$\n",
    "$$ \\dot{x_3}=-\\omega_2x_4+(b_1^Rx_3-b_1^Ix_4)(x_3^2+x_4^2)+(b_2^Rx_3-b_2^Ix_4)(x_1^2+x_2^2)$$ \n",
    "$$ \\dot{x_4}=\\omega_2x_3+(b_1^Rx_4+b_1^Ix_3)(x_3^2+x_4^2)(b_2^Rx_4+b_2^Ix_3)(x_1^2+x_2^2)$$"
   ]
  },
  {
   "cell_type": "markdown",
   "metadata": {},
   "source": [
    "$$ \\dot{r_1}=\\mu_1 r_1+a_1^R r_1^3+a_2^R r_1 r_2^2+\\ldots $$ \n",
    "$$ \\dot{r_2}=\\mu_2 r_2+b_1^R r_2^3+b_2^R r_1^2 r_2+\\ldots $$ "
   ]
  }
 ],
 "metadata": {
  "kernelspec": {
   "display_name": "Python 3",
   "language": "python",
   "name": "python3"
  },
  "language_info": {
   "codemirror_mode": {
    "name": "ipython",
    "version": 3
   },
   "file_extension": ".py",
   "mimetype": "text/x-python",
   "name": "python",
   "nbconvert_exporter": "python",
   "pygments_lexer": "ipython3",
   "version": "3.6.5"
  }
 },
 "nbformat": 4,
 "nbformat_minor": 2
}
