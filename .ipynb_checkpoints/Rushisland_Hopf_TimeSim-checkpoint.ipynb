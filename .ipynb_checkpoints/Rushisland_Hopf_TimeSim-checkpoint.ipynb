{
 "cells": [
  {
   "cell_type": "code",
   "execution_count": null,
   "metadata": {},
   "outputs": [],
   "source": [
    "# from Hopf_ESDC1A import *\n",
    "from rushisland5 import *"
   ]
  },
  {
   "cell_type": "code",
   "execution_count": null,
   "metadata": {},
   "outputs": [],
   "source": [
    "import numpy as np\n",
    "import numdifftools as nd\n",
    "import scipy as sp\n",
    "import pandas as pd\n",
    "import matplotlib.pyplot as plt\n",
    "import math\n",
    "%matplotlib inline \n",
    "pd.set_option('display.float_format', lambda x: '%.6f' % x)\n",
    "pd.set_option('display.max_columns', None)\n",
    "pd.set_option('display.max_rows', None)\n",
    "from scipy import optimize\n",
    "np.set_printoptions(precision=25)"
   ]
  },
  {
   "cell_type": "code",
   "execution_count": null,
   "metadata": {},
   "outputs": [],
   "source": [
    "who"
   ]
  },
  {
   "cell_type": "code",
   "execution_count": null,
   "metadata": {},
   "outputs": [],
   "source": [
    "sys_fun(x)\n",
    "sol = optimize.root(sys_fun, x, method='hybr')\n",
    "print(sol.message)\n",
    "J = np.array([nd.Jacobian(f)(sol.x).ravel() for f in all_fun])\n",
    "lam, v = np.linalg.eig(J)\n",
    "print(lam)"
   ]
  },
  {
   "cell_type": "code",
   "execution_count": null,
   "metadata": {},
   "outputs": [],
   "source": [
    "from scipy.integrate import solve_ivp\n",
    "def func_ty(t, x): \n",
    "    return sys_fun(x)\n",
    "\n",
    "fs = 240\n",
    "tend = 10\n",
    "x0 = x\n",
    "sol = solve_ivp(func_ty, [0,tend], x0, method='RK45', t_eval=np.arange(0,tend,1/fs))"
   ]
  },
  {
   "cell_type": "code",
   "execution_count": null,
   "metadata": {},
   "outputs": [],
   "source": [
    "tend = 100\n",
    "x0 = sol.y[:,-1]\n",
    "sol = solve_ivp(func_ty, [0,tend], x0, method='RK45', t_eval=np.arange(0,tend,1/fs))"
   ]
  },
  {
   "cell_type": "code",
   "execution_count": null,
   "metadata": {
    "scrolled": true
   },
   "outputs": [],
   "source": [
    "sol.y.shape"
   ]
  },
  {
   "cell_type": "code",
   "execution_count": null,
   "metadata": {},
   "outputs": [],
   "source": [
    "data = pd.DataFrame(sol.y.T)"
   ]
  },
  {
   "cell_type": "code",
   "execution_count": null,
   "metadata": {},
   "outputs": [],
   "source": [
    "fig, ax = plt.subplots(nrows=4,ncols=1,figsize=(14,14))\n",
    "start = 0*fs\n",
    "end = -1\n",
    "ax[0].plot(sol.t[start:end:8], data.iloc[start:end:8,0])\n",
    "ax[1].plot(sol.t[start:end:8], data.iloc[start:end:8,1])\n",
    "ax[2].plot(sol.t[start:end:8], data.iloc[start:end:8,2])\n",
    "ax[3].plot(sol.t[start:end:8], data.iloc[start:end:8,3])\n",
    "ax[0].set_ylabel('Eqp')\n",
    "ax[1].set_ylabel('Edp')\n",
    "ax[2].set_ylabel('delta')\n",
    "ax[3].set_ylabel('w')\n",
    "ax[3].set_xlabel('time(sec)')"
   ]
  },
  {
   "cell_type": "code",
   "execution_count": null,
   "metadata": {},
   "outputs": [],
   "source": []
  }
 ],
 "metadata": {
  "kernelspec": {
   "display_name": "Python 3",
   "language": "python",
   "name": "python3"
  },
  "language_info": {
   "codemirror_mode": {
    "name": "ipython",
    "version": 3
   },
   "file_extension": ".py",
   "mimetype": "text/x-python",
   "name": "python",
   "nbconvert_exporter": "python",
   "pygments_lexer": "ipython3",
   "version": "3.6.5"
  }
 },
 "nbformat": 4,
 "nbformat_minor": 2
}
