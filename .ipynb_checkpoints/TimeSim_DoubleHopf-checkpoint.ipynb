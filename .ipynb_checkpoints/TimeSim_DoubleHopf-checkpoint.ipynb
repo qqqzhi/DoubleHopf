{
 "cells": [
  {
   "cell_type": "code",
   "execution_count": 1,
   "metadata": {},
   "outputs": [],
   "source": [
    "import numpy as np\n",
    "import numdifftools as nd\n",
    "import scipy as sp\n",
    "import pandas as pd\n",
    "import matplotlib.pyplot as plt\n",
    "import math\n",
    "import sys\n",
    "from scipy.integrate import solve_ivp\n",
    "%matplotlib inline \n",
    "pd.set_option('display.float_format', lambda x: '%.6f' % x)\n",
    "pd.set_option('display.max_columns', None)\n",
    "pd.set_option('display.max_rows', None)\n",
    "from scipy import optimize\n",
    "np.set_printoptions(precision=25)\n",
    "%load_ext autoreload\n",
    "%autoreload 2"
   ]
  },
  {
   "cell_type": "code",
   "execution_count": 2,
   "metadata": {},
   "outputs": [],
   "source": [
    "from rushisland5 import *"
   ]
  },
  {
   "cell_type": "code",
   "execution_count": 3,
   "metadata": {},
   "outputs": [],
   "source": [
    "# Pe = Eq*Iq + Ed*Id = Eq*(Vd-Ed)/Xqp + Ed*(Eq-Vq)/Xdp = (Eq*Vd - Ed*Vq)/Xdp\n",
    "Pm1 = 7.2\n",
    "Pm2 = 7.46\n",
    "\n",
    "def f_w1(x):\n",
    "    Eqp1 = x[0]\n",
    "    Edp1 = x[1]\n",
    "    Vd1 = np.real(f_Vdq(x)[0])\n",
    "    Vq1 = np.imag(f_Vdq(x)[0])\n",
    "    Pe = (Eqp1*Vd1 - Edp1*Vq1)/Xdp\n",
    "    return 1 / (2 * H) * (Pm1 - Pe) # 6.8954233610562881\n",
    "\n",
    "\n",
    "def f_w2(x):\n",
    "    Eqp2 = x[7]\n",
    "    Edp2 = x[8]\n",
    "    Vd2 = np.real(f_Vdq(x)[1])\n",
    "    Vq2 = np.imag(f_Vdq(x)[1])\n",
    "    Pe = (Eqp2*Vd2 - Edp2*Vq2)/Xdp\n",
    "    return 1 / (2 * H) * (Pm2 - Pe) # 7.5312971941631437\n",
    "\n",
    "\n",
    "def f_VA1(x):\n",
    "    Eqp1 = x[0]\n",
    "    Edp1 = x[1]\n",
    "    Vf1 = x[4]\n",
    "    Va1 = x[5]\n",
    "    Ve1 = x[6]\n",
    "    Id1 = f_Id1(x)\n",
    "    XadIfd = Eqp1 + (Xd - Xdp) * Id1\n",
    "    Vfe = KD1 * XadIfd + KE1 * Ve1 + Aex1 * np.exp(Bex1 * Ve1)\n",
    "    yf = KF1 / TF1 * (Vfe - Vf1)\n",
    "    Vsum = 1.0586038003890010 - np.absolute(f_Vdq(x)[0]) - yf\n",
    "    return (KA1 * Vsum - Va1) / TA1\n",
    "\n",
    "def f_VA2(x):\n",
    "    Eqp2 = x[7]\n",
    "    Edp2 = x[8]\n",
    "    Vf2 = x[11]\n",
    "    Va2 = x[12]\n",
    "    Ve2 = x[13]\n",
    "    Id2 = f_Id2(x)\n",
    "    XadIfd = Eqp2 + (Xd - Xdp) * Id2\n",
    "    Vfe = KD2 * XadIfd + KE2 * Ve2 + Aex2 * np.exp(Bex2 * Ve2)\n",
    "    yf = KF2 / TF2 * (Vfe - Vf2)\n",
    "    Vsum = 1.0659163034132286 - np.absolute(f_Vdq(x)[1]) - yf\n",
    "    return (KA2 * Vsum - Va2) / TA2\n",
    "\n",
    "\n",
    "def sys_fun(x):\n",
    "    fun = [f_Eqp1, f_Edp1, f_delta1, f_w1, f_VF1, f_VA1, f_VE1, f_Eqp2, f_Edp2, f_delta2, f_w2, f_VF2, f_VA2, f_VE2]\n",
    "    #     J = np.array([nd.Jacobian(f)(x).ravel() for f in fun])\n",
    "    #     J = J[:,:14]\n",
    "    #     lam, v = np.linalg.eig(J)\n",
    "    #     #lam = lam[abs(lam.imag).argsort()][::-1]\n",
    "    #     print(lam)\n",
    "    #     res = np.append(np.array([f(x).ravel() for f in fun]).ravel(), [lam[4].real,lam[5].real,lam[8].real,lam[9].real])\n",
    "    #     return res\n",
    "    return np.array([f(x).ravel() for f in fun]).ravel()"
   ]
  },
  {
   "cell_type": "code",
   "execution_count": 4,
   "metadata": {
    "scrolled": true
   },
   "outputs": [
    {
     "name": "stdout",
     "output_type": "stream",
     "text": [
      "[[-0.011262693398920868]\n",
      " [ 0.021315005180711787]]\n",
      "---------------------\n",
      "[-1.892531779543433]\n",
      "---------------------\n",
      "[0.021977791123736694]\n",
      "---------------------\n",
      "[ 2.4462400002247348e-13  8.9385122874669238e-12 -1.9884958138562446e-26\n",
      "  3.6181591689758196e-03 -1.9938961914717304e-12 -1.8302594008269402e-08\n",
      "  1.7626925560202485e-12  1.9030014170685610e-13  1.5969425519637771e-11\n",
      " -3.6531015914904231e-26 -8.4696120360975311e-04 -9.3614005436393199e-13\n",
      " -1.8749446439869644e-11  1.2001795568768359e-12]\n"
     ]
    }
   ],
   "source": [
    "mu = 0.01*np.array([[-2.5, 5.117],[7.877, 3.754]]).dot([[Pm1-6.8954233610562881],[Pm2-7.5312971941631437]])\n",
    "print(mu)\n",
    "print(\"---------------------\")\n",
    "print(mu[1]/mu[0])\n",
    "print(\"---------------------\")\n",
    "print(-1.2958062891488873 * mu[0] + 58.2075152897697 * mu[0]**2)\n",
    "print(\"---------------------\")\n",
    "print(sys_fun(x))"
   ]
  },
  {
   "cell_type": "code",
   "execution_count": 5,
   "metadata": {},
   "outputs": [],
   "source": [
    "# sol = optimize.root(sys_fun, x, method='hybr')\n",
    "# all_fun = [f_Eqp1,f_Edp1,f_delta1,f_w1,f_VF1,f_VA1,f_VE1,f_Eqp2,f_Edp2,f_delta2,f_w2,f_VF2,f_VA2,f_VE2]\n",
    "# J = np.array([nd.Jacobian(f)(x).ravel() for f in all_fun])\n",
    "# lam, v = np.linalg.eig(J) # Here we want to calculate the left eigenvecs, so use J_org.T; because use left eigvec makes it easier to calc transformation matrix\n",
    "# print(lam)"
   ]
  },
  {
   "cell_type": "code",
   "execution_count": 6,
   "metadata": {},
   "outputs": [
    {
     "name": "stdout",
     "output_type": "stream",
     "text": [
      "[-11.056773026724459   +22.479234120769846j\n",
      " -11.056773026724459   -22.479234120769846j\n",
      "  -0.8862991210218258   +8.47232423010426j\n",
      "  -0.8862991210218258   -8.47232423010426j\n",
      "   0.021518099065161    +5.165445882760782j\n",
      "   0.021518099065161    -5.165445882760782j\n",
      "  -6.6038389181089485   +0.j\n",
      "  -4.6860677852117485   +0.j\n",
      "  -0.011428866038990515 +2.009308459297762j\n",
      "  -0.011428866038990515 -2.009308459297762j\n",
      "  -2.8481482935479163   +0.j\n",
      "  -1.0458292801110003   +0.936294279873027j\n",
      "  -1.0458292801110003   -0.936294279873027j\n",
      "  -1.0654464227388571   +0.j               ]\n",
      "---------------------\n",
      "-1.882785132991343\n",
      "---------------------\n",
      "0.02241260270478468\n"
     ]
    }
   ],
   "source": [
    "sol = optimize.root(sys_fun, x, method='hybr')\n",
    "J = Jacobian(sol.x)\n",
    "lam, v = np.linalg.eig(J) # Here we want to calculate the left eigenvecs, so use J_org.T; because use left eigvec makes it easier to calc transformation matrix\n",
    "print(lam)\n",
    "print(\"---------------------\")\n",
    "print(lam[4].real/lam[8].real)\n",
    "print(\"---------------------\")\n",
    "print(-1.2958062891488873 * lam[8].real + 58.2075152897697 * lam[8].real**2)"
   ]
  },
  {
   "cell_type": "code",
   "execution_count": 7,
   "metadata": {},
   "outputs": [],
   "source": [
    "def func_ty(t, x): \n",
    "    return sys_fun(x)\n",
    "# def Jac(t,x):\n",
    "#     return np.array([nd.Jacobian(f)(x).ravel() for f in all_fun])  # Jacobian(x)"
   ]
  },
  {
   "cell_type": "code",
   "execution_count": null,
   "metadata": {
    "scrolled": false
   },
   "outputs": [],
   "source": [
    "np.random.seed(1)\n",
    "fs = 120\n",
    "tend = 3000\n",
    "x0 = x.copy()\n",
    "\n",
    "# x0[3]  = x0[3] + 0.005\n",
    "# x0[10] = x0[10] + 0.005\n",
    "\n",
    "atol = 1e-8\n",
    "rtol = 1e-8\n",
    "\n",
    "sol = solve_ivp(func_ty, [0,tend], x0, method='RK45', t_eval=np.arange(0,tend,1/fs), atol=atol, rtol=rtol)\n",
    "# sol = solve_ivp(func_ty, [0,tend], x0, method='BDF', t_eval=np.arange(0,tend,1/fs), jac=Jac, atol=atol, rtol=rtol)\n",
    "result = np.column_stack( (sol.t, sol.y.T) )"
   ]
  },
  {
   "cell_type": "code",
   "execution_count": 8,
   "metadata": {},
   "outputs": [],
   "source": [
    "\"\"\" Read results from previous saved .mat file and continue simulation\"\"\"\n",
    "import scipy.io as io\n",
    "result = io.loadmat('./results/Region6_7p2_7p46_EfdNoLim_3000sec.mat')\n",
    "result = result['data']\n",
    "fs = 120\n",
    "tend = 3000\n",
    "atol = 1e-8\n",
    "rtol = 1e-8\n",
    "x0 = result[-1,1:]"
   ]
  },
  {
   "cell_type": "code",
   "execution_count": 9,
   "metadata": {
    "scrolled": true
   },
   "outputs": [
    {
     "ename": "AttributeError",
     "evalue": "y",
     "output_type": "error",
     "traceback": [
      "\u001b[1;31m---------------------------------------------------------------------------\u001b[0m",
      "\u001b[1;31mKeyError\u001b[0m                                  Traceback (most recent call last)",
      "\u001b[1;32m~\\Anaconda3\\lib\\site-packages\\scipy\\optimize\\optimize.py\u001b[0m in \u001b[0;36m__getattr__\u001b[1;34m(self, name)\u001b[0m\n\u001b[0;32m    114\u001b[0m         \u001b[1;32mtry\u001b[0m\u001b[1;33m:\u001b[0m\u001b[1;33m\u001b[0m\u001b[1;33m\u001b[0m\u001b[0m\n\u001b[1;32m--> 115\u001b[1;33m             \u001b[1;32mreturn\u001b[0m \u001b[0mself\u001b[0m\u001b[1;33m[\u001b[0m\u001b[0mname\u001b[0m\u001b[1;33m]\u001b[0m\u001b[1;33m\u001b[0m\u001b[1;33m\u001b[0m\u001b[0m\n\u001b[0m\u001b[0;32m    116\u001b[0m         \u001b[1;32mexcept\u001b[0m \u001b[0mKeyError\u001b[0m\u001b[1;33m:\u001b[0m\u001b[1;33m\u001b[0m\u001b[1;33m\u001b[0m\u001b[0m\n",
      "\u001b[1;31mKeyError\u001b[0m: 'y'",
      "\nDuring handling of the above exception, another exception occurred:\n",
      "\u001b[1;31mAttributeError\u001b[0m                            Traceback (most recent call last)",
      "\u001b[1;32m<ipython-input-9-d051d695bc27>\u001b[0m in \u001b[0;36m<module>\u001b[1;34m\u001b[0m\n\u001b[0;32m      1\u001b[0m \u001b[0mtspan\u001b[0m \u001b[1;33m=\u001b[0m \u001b[1;36m3000\u001b[0m\u001b[1;33m\u001b[0m\u001b[1;33m\u001b[0m\u001b[0m\n\u001b[1;32m----> 2\u001b[1;33m \u001b[0mx0\u001b[0m \u001b[1;33m=\u001b[0m \u001b[0msol\u001b[0m\u001b[1;33m.\u001b[0m\u001b[0my\u001b[0m\u001b[1;33m[\u001b[0m\u001b[1;33m:\u001b[0m\u001b[1;33m,\u001b[0m\u001b[1;33m-\u001b[0m\u001b[1;36m1\u001b[0m\u001b[1;33m]\u001b[0m\u001b[1;33m\u001b[0m\u001b[1;33m\u001b[0m\u001b[0m\n\u001b[0m\u001b[0;32m      3\u001b[0m \u001b[0msol\u001b[0m \u001b[1;33m=\u001b[0m \u001b[0msolve_ivp\u001b[0m\u001b[1;33m(\u001b[0m\u001b[0mfunc_ty\u001b[0m\u001b[1;33m,\u001b[0m \u001b[1;33m[\u001b[0m\u001b[0mtend\u001b[0m\u001b[1;33m+\u001b[0m\u001b[1;36m1\u001b[0m\u001b[1;33m/\u001b[0m\u001b[0mfs\u001b[0m\u001b[1;33m,\u001b[0m\u001b[0mtend\u001b[0m\u001b[1;33m+\u001b[0m\u001b[0mtspan\u001b[0m\u001b[1;33m]\u001b[0m\u001b[1;33m,\u001b[0m \u001b[0mx0\u001b[0m\u001b[1;33m,\u001b[0m \u001b[0mmethod\u001b[0m\u001b[1;33m=\u001b[0m\u001b[1;34m'RK45'\u001b[0m\u001b[1;33m,\u001b[0m \u001b[0mt_eval\u001b[0m\u001b[1;33m=\u001b[0m\u001b[0mnp\u001b[0m\u001b[1;33m.\u001b[0m\u001b[0marange\u001b[0m\u001b[1;33m(\u001b[0m\u001b[0mtend\u001b[0m\u001b[1;33m+\u001b[0m\u001b[1;36m1\u001b[0m\u001b[1;33m/\u001b[0m\u001b[0mfs\u001b[0m\u001b[1;33m,\u001b[0m\u001b[0mtend\u001b[0m\u001b[1;33m+\u001b[0m\u001b[0mtspan\u001b[0m\u001b[1;33m,\u001b[0m\u001b[1;36m1\u001b[0m\u001b[1;33m/\u001b[0m\u001b[0mfs\u001b[0m\u001b[1;33m)\u001b[0m\u001b[1;33m,\u001b[0m \u001b[0matol\u001b[0m\u001b[1;33m=\u001b[0m\u001b[0matol\u001b[0m\u001b[1;33m,\u001b[0m \u001b[0mrtol\u001b[0m\u001b[1;33m=\u001b[0m\u001b[0mrtol\u001b[0m\u001b[1;33m)\u001b[0m\u001b[1;33m\u001b[0m\u001b[1;33m\u001b[0m\u001b[0m\n\u001b[0;32m      4\u001b[0m \u001b[1;31m# sol = solve_ivp(func_ty, [tend+1/fs,tend+tspan], x0, method='BDF', t_eval=np.arange(tend+1/fs,tend+tspan,1/fs), jac=Jac, atol=atol, rtol=rtol)\u001b[0m\u001b[1;33m\u001b[0m\u001b[1;33m\u001b[0m\u001b[1;33m\u001b[0m\u001b[0m\n\u001b[0;32m      5\u001b[0m \u001b[0mtend\u001b[0m \u001b[1;33m=\u001b[0m \u001b[0mtend\u001b[0m\u001b[1;33m+\u001b[0m\u001b[0mtspan\u001b[0m\u001b[1;33m\u001b[0m\u001b[1;33m\u001b[0m\u001b[0m\n",
      "\u001b[1;32m~\\Anaconda3\\lib\\site-packages\\scipy\\optimize\\optimize.py\u001b[0m in \u001b[0;36m__getattr__\u001b[1;34m(self, name)\u001b[0m\n\u001b[0;32m    115\u001b[0m             \u001b[1;32mreturn\u001b[0m \u001b[0mself\u001b[0m\u001b[1;33m[\u001b[0m\u001b[0mname\u001b[0m\u001b[1;33m]\u001b[0m\u001b[1;33m\u001b[0m\u001b[1;33m\u001b[0m\u001b[0m\n\u001b[0;32m    116\u001b[0m         \u001b[1;32mexcept\u001b[0m \u001b[0mKeyError\u001b[0m\u001b[1;33m:\u001b[0m\u001b[1;33m\u001b[0m\u001b[1;33m\u001b[0m\u001b[0m\n\u001b[1;32m--> 117\u001b[1;33m             \u001b[1;32mraise\u001b[0m \u001b[0mAttributeError\u001b[0m\u001b[1;33m(\u001b[0m\u001b[0mname\u001b[0m\u001b[1;33m)\u001b[0m\u001b[1;33m\u001b[0m\u001b[1;33m\u001b[0m\u001b[0m\n\u001b[0m\u001b[0;32m    118\u001b[0m \u001b[1;33m\u001b[0m\u001b[0m\n\u001b[0;32m    119\u001b[0m     \u001b[0m__setattr__\u001b[0m \u001b[1;33m=\u001b[0m \u001b[0mdict\u001b[0m\u001b[1;33m.\u001b[0m\u001b[0m__setitem__\u001b[0m\u001b[1;33m\u001b[0m\u001b[1;33m\u001b[0m\u001b[0m\n",
      "\u001b[1;31mAttributeError\u001b[0m: y"
     ]
    }
   ],
   "source": [
    "tspan = 3000\n",
    "# x0 = sol.y[:,-1]\n",
    "sol = solve_ivp(func_ty, [tend+1/fs,tend+tspan], x0, method='RK45', t_eval=np.arange(tend+1/fs,tend+tspan,1/fs), atol=atol, rtol=rtol)\n",
    "# sol = solve_ivp(func_ty, [tend+1/fs,tend+tspan], x0, method='BDF', t_eval=np.arange(tend+1/fs,tend+tspan,1/fs), jac=Jac, atol=atol, rtol=rtol)\n",
    "tend = tend+tspan\n",
    "result = np.row_stack( (result, np.column_stack( (sol.t, sol.y.T) )) )"
   ]
  },
  {
   "cell_type": "code",
   "execution_count": null,
   "metadata": {},
   "outputs": [],
   "source": [
    "# Efd = np.zeros((result.shape[0],2))\n",
    "# for i in range(result.shape[0]):\n",
    "#     x = result[i,1:]\n",
    "#     Efd[i,:] = [f_Efd(x[6], x[0] + (Xd - Xdp) * f_Id1(x), KC1), f_Efd(x[13], x[7] + (Xd - Xdp) * f_Id2(x), KC2)]"
   ]
  },
  {
   "cell_type": "code",
   "execution_count": null,
   "metadata": {
    "scrolled": false
   },
   "outputs": [],
   "source": [
    "fig, ax = plt.subplots(nrows=8,ncols=1,figsize=(14,18))\n",
    "start, end = 0*fs, tend*fs\n",
    "\n",
    "time = result[start:end,0]\n",
    "data = result[start:end,1:]\n",
    "for i in range(7):\n",
    "    ax[i].plot(time, data[:,i],   label = 'Gen1')\n",
    "    ax[i].plot(time, data[:,i+7], label = 'Gen2')\n",
    "\n",
    "# ax[7].plot(time, Efd, label = 'Efd')\n",
    "\n",
    "\n",
    "ax[0].set_ylabel('Eqp')\n",
    "ax[1].set_ylabel('Edp')\n",
    "ax[2].set_ylabel('delta')\n",
    "ax[3].set_ylabel('w')\n",
    "ax[4].set_ylabel('VF')\n",
    "ax[5].set_ylabel('VA')\n",
    "ax[6].set_ylabel('VE')\n",
    "# ax[7].set_ylabel('Efd')\n",
    "# ax[7].set_xlabel('time(sec)')"
   ]
  },
  {
   "cell_type": "code",
   "execution_count": null,
   "metadata": {},
   "outputs": [],
   "source": [
    "import scipy.io as io\n",
    "io.savemat('./results/Region6_7p2_7p47_EfdNoLim_4000sec.mat',{'data':result})"
   ]
  },
  {
   "cell_type": "code",
   "execution_count": null,
   "metadata": {},
   "outputs": [],
   "source": [
    "start = 1500*120\n",
    "end = 2000*120\n",
    "\n",
    "xt = result[start:end,3]\n",
    "xt = xt - np.mean(xt,axis=0)\n",
    "f = np.fft.fftfreq(len(xt), 1/120)\n",
    "y = np.abs(np.fft.fft(xt,axis=0)) / len(f)\n",
    "\n",
    "plt.plot(f[0:len(f)//80],y[0:len(f)//80])\n",
    "plt.xlabel('Hz')\n",
    "plt.ylabel('Magnitude')\n",
    "plt.title(\"Frequency component during {}s ~ {}s\".format(int(start/120),int(end/120)))\n",
    "# plt.title(\"Frequency component of the torus\")"
   ]
  },
  {
   "cell_type": "code",
   "execution_count": null,
   "metadata": {},
   "outputs": [],
   "source": [
    "result.shape"
   ]
  },
  {
   "cell_type": "code",
   "execution_count": null,
   "metadata": {
    "scrolled": false
   },
   "outputs": [],
   "source": [
    "from mpl_toolkits.mplot3d import Axes3D\n",
    "# fig, ax = plt.subplots(nrows=2,ncols=2,figsize=(10,10))\n",
    "# ax[0][0].plot(data[:,0],data[:,7]);  ax[0][0].set_xlabel('Eqp1');   ax[0][0].set_ylabel('Eqp2')\n",
    "# ax[0][1].plot(data[:,1],data[:,8]);  ax[0][1].set_xlabel('Edp1');   ax[0][1].set_ylabel('Edp2')\n",
    "# ax[1][0].plot(data[:,2],data[:,9]);  ax[1][0].set_xlabel('delta1'); ax[1][0].set_ylabel('delta2')\n",
    "# ax[1][1].plot(data[:,3],data[:,10]); ax[1][1].set_xlabel('w1');     ax[1][1].set_ylabel('w2')\n",
    "\n",
    "fig = plt.figure(figsize=(10,8))\n",
    "ax = fig.gca(projection='3d')\n",
    "\n",
    "start = 4000*fs\n",
    "end = 8000*fs\n",
    "data = result[start:end,1:]\n",
    "xs = data[:,0]\n",
    "ys = data[:,6]\n",
    "zs = data[:,13]\n",
    "\n",
    "ax.plot(xs, ys, zs, lw=0.5)\n",
    "ax.set_xlabel(\"Eqp1\")\n",
    "ax.set_ylabel(\"Ve1\")\n",
    "ax.set_zlabel(\"Ve2\")\n",
    "ax.set_title(\"System trajectory in 3D from time {}s ~ {}s\".format(int(start/120),int(end/120)))\n",
    "plt.show()"
   ]
  },
  {
   "cell_type": "code",
   "execution_count": null,
   "metadata": {},
   "outputs": [],
   "source": [
    "def trapezoidal(x_init, fun, jac, tstart, tend, dt=1/120, tol=1e-8, n_iter=50):\n",
    "    xold = x_init.copy()\n",
    "    time = np.array([tstart])\n",
    "    y = np.array([x_init.copy()])\n",
    "    t = tstart\n",
    "    while t < tend:\n",
    "        xguess = xold.copy()\n",
    "        F = xguess - xold - dt/2 * (fun(xold) + fun(xguess))\n",
    "        niter = 0\n",
    "        converged = 0\n",
    "        while not converged and niter < n_iter:\n",
    "            dx = np.linalg.solve(np.eye(14) - dt/2 * jac(xguess), -F)\n",
    "            xguess += dx\n",
    "            F = xguess- xold - dt/2 * (fun(xold) + fun(xguess))\n",
    "            niter += 1\n",
    "            if np.linalg.norm(F, 2) < tol:\n",
    "                converged = 1\n",
    "        if converged:\n",
    "            t += dt\n",
    "            time = np.append(time, t)\n",
    "            y = np.append(y, np.array([xguess]), axis=0)\n",
    "            sys.stdout.write(\"t={:3f}, converged in {} iters \\r\".format(t, niter))\n",
    "            sys.stdout.flush()\n",
    "            xold = xguess.copy()\n",
    "        else:\n",
    "            sys.exit('maximum iter reached')\n",
    "    return np.c_[time, y]"
   ]
  },
  {
   "cell_type": "code",
   "execution_count": null,
   "metadata": {},
   "outputs": [],
   "source": [
    "all_fun = [f_Eqp1,f_Edp1,f_delta1,f_w1,f_VF1,f_VA1,f_VE1,f_Eqp2,f_Edp2,f_delta2,f_w2,f_VF2,f_VA2,f_VE2]\n",
    "def Jac(x):\n",
    "    return np.array([nd.Jacobian(f)(x).ravel() for f in all_fun])  # Jacobian(x)"
   ]
  },
  {
   "cell_type": "code",
   "execution_count": null,
   "metadata": {},
   "outputs": [],
   "source": [
    "x0 = x.copy()\n",
    "fs = 120\n",
    "result_trap = trapezoidal(x0, sys_fun, Jac, tstart=0, tend=160)"
   ]
  },
  {
   "cell_type": "code",
   "execution_count": null,
   "metadata": {},
   "outputs": [],
   "source": [
    "x0 = result_trap[-1,1:].copy()\n",
    "result2 =  trapezoidal(x0, sys_fun, Jac, tstart=160, tend=165)\n",
    "result_trap = np.r_[result_trap, result2]"
   ]
  },
  {
   "cell_type": "code",
   "execution_count": null,
   "metadata": {},
   "outputs": [],
   "source": [
    "fig, ax = plt.subplots(nrows=1,ncols=1,figsize=(14,5))\n",
    "start, end = 100*fs, 3000*fs\n",
    "\n",
    "time = result[start:end,0]\n",
    "data = result[start:end,1:]\n",
    "i=3\n",
    "ax.plot(time, data[:,i],   label = 'Gen1')\n",
    "# ax.plot(time, data[:,i+7], label = 'Gen2')\n",
    "\n",
    "#[ax[i].legend() for i in range(7)]\n",
    "\n",
    "ax.set_ylabel('w')\n",
    "# ax.legend()\n",
    "ax.set_xlabel('time(sec)')"
   ]
  },
  {
   "cell_type": "code",
   "execution_count": null,
   "metadata": {},
   "outputs": [],
   "source": [
    "plt.figure(figsize=(14,6))\n",
    "plt.plot(result_trap[0:160*fs,5])\n",
    "plt.plot(result[0:160*fs,5],'--')"
   ]
  }
 ],
 "metadata": {
  "kernelspec": {
   "display_name": "Python 3",
   "language": "python",
   "name": "python3"
  },
  "language_info": {
   "codemirror_mode": {
    "name": "ipython",
    "version": 3
   },
   "file_extension": ".py",
   "mimetype": "text/x-python",
   "name": "python",
   "nbconvert_exporter": "python",
   "pygments_lexer": "ipython3",
   "version": "3.7.3"
  }
 },
 "nbformat": 4,
 "nbformat_minor": 2
}
