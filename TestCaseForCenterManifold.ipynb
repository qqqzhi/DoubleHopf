{
 "cells": [
  {
   "cell_type": "code",
   "execution_count": 3,
   "metadata": {},
   "outputs": [],
   "source": [
    "import numpy as np\n",
    "import pandas as pd\n",
    "import scipy as sp\n",
    "def fun(x):\n",
    "    w = 1\n",
    "    a = -0.5\n",
    "    b = 0.1\n",
    "    return np.array([-w*x[1] + x[0]*x[1] + (a*x[0] - b*x[1])*(x[0]**2 + x[1]**2) + (x[0]+x[1])**5,\n",
    "                      w*x[0] - 2*x[0]**2 + (b*x[0] + a*x[1])*(x[0]**2 + x[1]**2) - (x[0]+x[1])**5])\n",
    "\n",
    "\n",
    "def f1(x):\n",
    "    w = 1\n",
    "    a = -0.5\n",
    "    b = 0.1\n",
    "    return np.array([-w*x[1] + x[0]*x[1] + (a*x[0] - b*x[1])*(x[0]**2 + x[1]**2) + (x[0]+x[1])**5])\n",
    "\n",
    "\n",
    "def f2(x):\n",
    "    w = 1\n",
    "    a = -0.5\n",
    "    b = 0.1\n",
    "    return np.array([w*x[0] - 2*x[0]**2 + (b*x[0] + a*x[1])*(x[0]**2 + x[1]**2) - (x[0]+x[1])**5])\n",
    "\n",
    "def T2_mat(n):\n",
    "    T2 = np.eye(n**2,dtype=int)\n",
    "    rmidx = np.triu_indices(n,1)[1]*n + np.triu_indices(n,1)[0]\n",
    "    T2 = np.delete(T2,rmidx,0)\n",
    "    return T2\n",
    "\n",
    "\n",
    "def S2_mat(n):\n",
    "    S2 = np.eye(n**2,dtype=int)\n",
    "    rmidx = np.triu_indices(n,1)[1]*n + np.triu_indices(n,1)[0]\n",
    "    addidx = np.triu_indices(n,1)[0]*n + np.triu_indices(n,1)[1]\n",
    "    S2[rmidx,addidx] = 1\n",
    "    S2 = np.delete(S2,rmidx,1)\n",
    "    return S2\n",
    "\n",
    "def T3_mat(n):\n",
    "    Bx3 = [(i,j,k) for i in range(n) for j in range(i,n) for k in range(j,n)] # extracted from x \\otimes Bx^2\n",
    "    x_Bx2 = [(i,j,k) for i in range(n) for j in range(n) for k in range(j,n)] #  x \\otimes Bx^2\n",
    "    Bx3_idx = [x_Bx2.index(i) for i in Bx3]\n",
    "    rmidx = list(set(range(len(x_Bx2)))-set(Bx3_idx))\n",
    "    rmele = [x_Bx2[i] for i in rmidx]\n",
    "    rmele = [tuple(sorted(i)) for i in rmele]\n",
    "    rmidx_inBx3 = [Bx3.index(i) for i in rmele]\n",
    "    T3 = np.eye(n*n*(n+1)//2,dtype=int)\n",
    "    T3 = T3[Bx3_idx]\n",
    "    return T3\n",
    "\n",
    "def S3_mat(n):\n",
    "    Bx3 = [(i,j,k) for i in range(n) for j in range(i,n) for k in range(j,n)] # extracted from x \\otimes Bx^2\n",
    "    x_Bx2 = [(i,j,k) for i in range(n) for j in range(n) for k in range(j,n)] #  x \\otimes Bx^2\n",
    "    Bx3_idx = [x_Bx2.index(i) for i in Bx3]\n",
    "    rmidx = list(set(range(len(x_Bx2)))-set(Bx3_idx))\n",
    "    rmele = [x_Bx2[i] for i in rmidx]\n",
    "    rmele = [tuple(sorted(i)) for i in rmele]\n",
    "    rmidx_inBx3 = [Bx3.index(i) for i in rmele]\n",
    "    S3 = np.eye(n*n*(n+1)//2,dtype=int)\n",
    "    S3 = S3[:,Bx3_idx]\n",
    "    S3[rmidx,rmidx_inBx3] = 1\n",
    "    return S3\n",
    "\n",
    "def Trissian(f_test, x0):\n",
    "    \"\"\"\n",
    "    This function calculates the 3rd order derivative of a function f: R^n -> R\n",
    "    input: \n",
    "        f_test is the function\n",
    "        x0 where the 3rd order want to be calcuated\n",
    "    return: 3-D matrix\n",
    "    \"\"\"\n",
    "    Trissian = np.zeros((x0.shape[0],x0.shape[0],x0.shape[0]))\n",
    "    for i in range(x0.shape[0]):\n",
    "        h = 0.001\n",
    "        xp1 = np.array(x0, copy=True) \n",
    "        xp1[i] += h\n",
    "        #print(xp1)\n",
    "        xp2 = np.array(x0, copy=True) \n",
    "        xp2[i] += 2*h\n",
    "        #print(xp2)\n",
    "        xm1 = np.array(x0, copy=True) \n",
    "        xm1[i] -= h\n",
    "        #print(xm1)\n",
    "        xm2 = np.array(x0, copy=True) \n",
    "        xm2[i] -= 2*h\n",
    "        #print(xm2)\n",
    "        Trissian[i] = (-nd.Hessian(f_test)(xp2) + 8*nd.Hessian(f_test)(xp1)- 8*nd.Hessian(f_test)(xm1) + nd.Hessian(f_test)(xm2))/(12*h)\n",
    "    return Trissian"
   ]
  },
  {
   "cell_type": "markdown",
   "metadata": {},
   "source": [
    "<font color='red'>$$\\dot{u} = J_c u + U_u^{2} B_u^2 + U_{u}^3 B_u^3 + O(u^4)$$"
   ]
  },
  {
   "cell_type": "code",
   "execution_count": 4,
   "metadata": {},
   "outputs": [],
   "source": [
    "import numdifftools as nd\n",
    "x = np.array([0,0],dtype=float) #Should explicitly assign dtype\n",
    "J_c = nd.Jacobian(fun)(x)\n",
    "# J_c"
   ]
  },
  {
   "cell_type": "code",
   "execution_count": 5,
   "metadata": {},
   "outputs": [],
   "source": [
    "n_c = 2\n",
    "J_cbar = np.kron(np.eye(n_c),J_c) + np.array([np.kron(np.eye(n_c),row) for row in J_c]).reshape(-1,n_c**2)\n",
    "# display(pd.DataFrame(J_cbar))\n",
    "C2 = -np.matmul(np.matmul(T2_mat(n_c),J_cbar),S2_mat(n_c))\n",
    "# display(pd.DataFrame(C2))"
   ]
  },
  {
   "cell_type": "code",
   "execution_count": 6,
   "metadata": {},
   "outputs": [],
   "source": [
    "Uu2 = np.array([nd.Hessian(f1)(x)[np.triu_indices(n_c,0)],nd.Hessian(f2)(x)[np.triu_indices(n_c,0)]])\n",
    "# Uu2\n",
    "idx = [(i,j,k) for i in range(n_c) for j in range(i,n_c) for k in range(j,n_c)]\n",
    "Uu3 = np.array([[Trissian(f1, x)[j] for j in idx],[Trissian(f2, x)[j] for j in idx]])"
   ]
  },
  {
   "cell_type": "code",
   "execution_count": 7,
   "metadata": {},
   "outputs": [],
   "source": [
    "Uu2 = Uu2 * np.array([[0.5,1.0,0.5],[0.5,1.0,0.5]])"
   ]
  },
  {
   "cell_type": "code",
   "execution_count": 8,
   "metadata": {
    "scrolled": true
   },
   "outputs": [],
   "source": [
    "Uu3 = Uu3 * np.array([[1/6,1/2,1/2,1/6],[1/6,1/2,1/2,1/6]])"
   ]
  },
  {
   "cell_type": "code",
   "execution_count": 9,
   "metadata": {},
   "outputs": [
    {
     "data": {
      "text/plain": [
       "array([[ 0.,  1.,  0.],\n",
       "       [-2.,  0.,  0.]])"
      ]
     },
     "execution_count": 9,
     "metadata": {},
     "output_type": "execute_result"
    }
   ],
   "source": [
    "Uu2"
   ]
  },
  {
   "cell_type": "code",
   "execution_count": 10,
   "metadata": {},
   "outputs": [
    {
     "data": {
      "text/plain": [
       "array([[-0.5, -0.1, -0.5, -0.1],\n",
       "       [ 0.1, -0.5,  0.1, -0.5]])"
      ]
     },
     "execution_count": 10,
     "metadata": {},
     "output_type": "execute_result"
    }
   ],
   "source": [
    "Uu3"
   ]
  },
  {
   "cell_type": "code",
   "execution_count": 12,
   "metadata": {
    "scrolled": true
   },
   "outputs": [
    {
     "data": {
      "text/plain": [
       "array([[-4.85877091e-16,  8.88178420e-16, -4.89362087e-16],\n",
       "       [-4.44089210e-16, -8.91498180e-16,  2.22044605e-16]])"
      ]
     },
     "execution_count": 12,
     "metadata": {},
     "output_type": "execute_result"
    }
   ],
   "source": [
    "import scipy as sp\n",
    "Lambda2 = np.kron(np.eye(n_c*(n_c+1)//2),J_c) + np.kron(C2.T, np.eye(n_c))\n",
    "# Since we know 2nd order will be eliminated, so Lambda should be full rank\n",
    "assert(np.linalg.matrix_rank(Lambda2) == Lambda2.shape[0])\n",
    "# So R_2n will be zero and H_2n could be solved directly from the Sylvester Equation\n",
    "H_2n = sp.linalg.solve_sylvester(J_c, C2, -Uu2)\n",
    "#display(pd.DataFrame(H_2n))\n",
    "R_2n = np.dot(J_c,H_2n) + np.dot(H_2n,C2) + Uu2\n",
    "R_2n"
   ]
  },
  {
   "cell_type": "code",
   "execution_count": 13,
   "metadata": {
    "scrolled": false
   },
   "outputs": [
    {
     "data": {
      "text/html": [
       "<div>\n",
       "<style scoped>\n",
       "    .dataframe tbody tr th:only-of-type {\n",
       "        vertical-align: middle;\n",
       "    }\n",
       "\n",
       "    .dataframe tbody tr th {\n",
       "        vertical-align: top;\n",
       "    }\n",
       "\n",
       "    .dataframe thead th {\n",
       "        text-align: right;\n",
       "    }\n",
       "</style>\n",
       "<table border=\"1\" class=\"dataframe\">\n",
       "  <thead>\n",
       "    <tr style=\"text-align: right;\">\n",
       "      <th></th>\n",
       "      <th>0</th>\n",
       "      <th>1</th>\n",
       "      <th>2</th>\n",
       "      <th>3</th>\n",
       "    </tr>\n",
       "  </thead>\n",
       "  <tbody>\n",
       "    <tr>\n",
       "      <th>0</th>\n",
       "      <td>-0.500000</td>\n",
       "      <td>-1.433333</td>\n",
       "      <td>-0.500000</td>\n",
       "      <td>1.566667</td>\n",
       "    </tr>\n",
       "    <tr>\n",
       "      <th>1</th>\n",
       "      <td>-1.233333</td>\n",
       "      <td>-0.500000</td>\n",
       "      <td>-6.566667</td>\n",
       "      <td>-0.500000</td>\n",
       "    </tr>\n",
       "  </tbody>\n",
       "</table>\n",
       "</div>"
      ],
      "text/plain": [
       "          0         1         2         3\n",
       "0 -0.500000 -1.433333 -0.500000  1.566667\n",
       "1 -1.233333 -0.500000 -6.566667 -0.500000"
      ]
     },
     "metadata": {},
     "output_type": "display_data"
    }
   ],
   "source": [
    "H_bar = np.kron(np.eye(n_c),np.dot(H_2n,T2_mat(n_c))) + np.array([np.kron(np.eye(n_c),row) for row in np.dot(H_2n,T2_mat(n_c))]).reshape(-1,n_c**3)\n",
    "#display(pd.DataFrame(H_bar))\n",
    "R_bar = np.kron(np.eye(n_c),np.dot(R_2n,T2_mat(n_c))) + np.array([np.kron(np.eye(n_c),row) for row in np.dot(R_2n,T2_mat(n_c))]).reshape(-1,n_c**3)\n",
    "#display(pd.DataFrame(R_bar))\n",
    "Ny3 = np.linalg.multi_dot([Uu2,T2_mat(n_c),H_bar,np.kron(np.eye(n_c),S2_mat(n_c)),S3_mat(n_c)]) + Uu3 - np.linalg.multi_dot([H_2n,T2_mat(n_c),R_bar,np.kron(np.eye(n_c),S2_mat(n_c)),S3_mat(n_c)])\n",
    "display(pd.DataFrame(Ny3))\n",
    "J_bar = np.kron(np.eye(n_c**2),J_c) + np.kron(np.eye(n_c), np.array([np.kron(np.eye(n_c),row) for row in J_c]).reshape(-1,n_c**2)) + np.array([np.kron(np.eye(n_c**2),row) for row in J_c]).reshape(-1,n_c**3) \n",
    "#display(pd.DataFrame(J_bar))\n",
    "C3 = -np.linalg.multi_dot([T3_mat(n_c),np.kron(np.eye(n_c),T2_mat(n_c)),J_bar,np.kron(np.eye(n_c),S2_mat(n_c)),S3_mat(n_c)])\n",
    "#display(pd.DataFrame(C3))\n",
    "# Lambda3 = np.kron(np.eye(n_c*(n_c+1)*(n_c+2)//6),J_c) + np.kron(C3.T, np.eye(n_c))\n",
    "Lambda3 = np.kron(J_c, np.eye(n_c*(n_c+1)*(n_c+2)//6)) + np.kron(np.eye(n_c), C3.T) # This is row vec\n",
    "#display(pd.DataFrame(Lambda3))"
   ]
  },
  {
   "cell_type": "code",
   "execution_count": 14,
   "metadata": {
    "scrolled": true
   },
   "outputs": [
    {
     "data": {
      "text/plain": [
       "array([[ 0., -1.,  0.,  0., -1., -0., -0., -0.],\n",
       "       [ 3.,  0., -2.,  0.,  0., -1., -0., -0.],\n",
       "       [ 0.,  2.,  0., -3., -0.,  0., -1., -0.],\n",
       "       [ 0.,  0.,  1.,  0., -0., -0.,  0., -1.],\n",
       "       [ 1.,  0.,  0.,  0.,  0., -1.,  0.,  0.],\n",
       "       [ 0.,  1.,  0.,  0.,  3.,  0., -2.,  0.],\n",
       "       [ 0.,  0.,  1.,  0.,  0.,  2.,  0., -3.],\n",
       "       [ 0.,  0.,  0.,  1.,  0.,  0.,  1.,  0.]])"
      ]
     },
     "execution_count": 14,
     "metadata": {},
     "output_type": "execute_result"
    }
   ],
   "source": [
    "Lambda3"
   ]
  },
  {
   "cell_type": "code",
   "execution_count": 15,
   "metadata": {},
   "outputs": [
    {
     "data": {
      "text/plain": [
       "6"
      ]
     },
     "execution_count": 15,
     "metadata": {},
     "output_type": "execute_result"
    }
   ],
   "source": [
    "np.linalg.matrix_rank(Lambda3)"
   ]
  },
  {
   "cell_type": "code",
   "execution_count": 16,
   "metadata": {
    "scrolled": false
   },
   "outputs": [
    {
     "data": {
      "text/plain": [
       "array([[-0.5       ],\n",
       "       [-1.69166667]])"
      ]
     },
     "execution_count": 16,
     "metadata": {},
     "output_type": "execute_result"
    }
   ],
   "source": [
    "# display(pd.DataFrame(Lambda3))\n",
    "P, L, U = sp.linalg.lu(Lambda3,permute_l=False)\n",
    "L = P.dot(L)\n",
    "# display(pd.DataFrame(L))\n",
    "# display(pd.DataFrame(U))\n",
    "# display(pd.DataFrame(L.dot(U)))\n",
    "L_inv = np.linalg.inv(L)\n",
    "#display(pd.DataFrame(L_inv))\n",
    "\n",
    "L3 = np.array([[1,0,1,0,0,1,0,1],[0,-1,0,-1,1,0,1,0]]).T\n",
    "L2 = L_inv[6:]\n",
    "\n",
    "theta =np.linalg.inv(L2.dot(L3)).dot(L2).dot(Ny3.reshape((1,-1)).T)\n",
    "theta"
   ]
  },
  {
   "cell_type": "code",
   "execution_count": 48,
   "metadata": {},
   "outputs": [
    {
     "data": {
      "text/plain": [
       "array([ -6.13180943, -18.47015528,   1.83236682,  17.81078678,\n",
       "        -4.32506124,  -1.37855816,   6.56666667,   0.5       ])"
      ]
     },
     "execution_count": 48,
     "metadata": {},
     "output_type": "execute_result"
    }
   ],
   "source": [
    "q, r = np.linalg.qr(Lambda3)\n",
    "Ap = r[:,0:np.linalg.matrix_rank(Lambda3)].dot(-np.reshape(Ny3,-1).dot(r[:,0:6]))\n",
    "H3n = np.linalg.solve(Lambda3, Ap)\n",
    "R3n = -np.reshape(Ny3,-1) - Ap\n",
    "R3n"
   ]
  },
  {
   "cell_type": "code",
   "execution_count": 25,
   "metadata": {},
   "outputs": [
    {
     "data": {
      "text/html": [
       "<div>\n",
       "<style scoped>\n",
       "    .dataframe tbody tr th:only-of-type {\n",
       "        vertical-align: middle;\n",
       "    }\n",
       "\n",
       "    .dataframe tbody tr th {\n",
       "        vertical-align: top;\n",
       "    }\n",
       "\n",
       "    .dataframe thead th {\n",
       "        text-align: right;\n",
       "    }\n",
       "</style>\n",
       "<table border=\"1\" class=\"dataframe\">\n",
       "  <thead>\n",
       "    <tr style=\"text-align: right;\">\n",
       "      <th></th>\n",
       "      <th>0</th>\n",
       "      <th>1</th>\n",
       "      <th>2</th>\n",
       "    </tr>\n",
       "  </thead>\n",
       "  <tbody>\n",
       "    <tr>\n",
       "      <th>0</th>\n",
       "      <td>(0.25+0j)</td>\n",
       "      <td>(0.5+0j)</td>\n",
       "      <td>(0.25+0j)</td>\n",
       "    </tr>\n",
       "    <tr>\n",
       "      <th>1</th>\n",
       "      <td>-0.25j</td>\n",
       "      <td>0j</td>\n",
       "      <td>0.25j</td>\n",
       "    </tr>\n",
       "    <tr>\n",
       "      <th>2</th>\n",
       "      <td>(-0.25+0j)</td>\n",
       "      <td>(0.5+0j)</td>\n",
       "      <td>(-0.25+0j)</td>\n",
       "    </tr>\n",
       "  </tbody>\n",
       "</table>\n",
       "</div>"
      ],
      "text/plain": [
       "            0         1           2\n",
       "0   (0.25+0j)  (0.5+0j)   (0.25+0j)\n",
       "1      -0.25j        0j       0.25j\n",
       "2  (-0.25+0j)  (0.5+0j)  (-0.25+0j)"
      ]
     },
     "metadata": {},
     "output_type": "display_data"
    },
    {
     "data": {
      "text/html": [
       "<div>\n",
       "<style scoped>\n",
       "    .dataframe tbody tr th:only-of-type {\n",
       "        vertical-align: middle;\n",
       "    }\n",
       "\n",
       "    .dataframe tbody tr th {\n",
       "        vertical-align: top;\n",
       "    }\n",
       "\n",
       "    .dataframe thead th {\n",
       "        text-align: right;\n",
       "    }\n",
       "</style>\n",
       "<table border=\"1\" class=\"dataframe\">\n",
       "  <thead>\n",
       "    <tr style=\"text-align: right;\">\n",
       "      <th></th>\n",
       "      <th>0</th>\n",
       "      <th>1</th>\n",
       "      <th>2</th>\n",
       "      <th>3</th>\n",
       "    </tr>\n",
       "  </thead>\n",
       "  <tbody>\n",
       "    <tr>\n",
       "      <th>0</th>\n",
       "      <td>(0.125+0j)</td>\n",
       "      <td>(0.375+0j)</td>\n",
       "      <td>(0.375+0j)</td>\n",
       "      <td>(0.125+0j)</td>\n",
       "    </tr>\n",
       "    <tr>\n",
       "      <th>1</th>\n",
       "      <td>-0.125j</td>\n",
       "      <td>-0.125j</td>\n",
       "      <td>0.125j</td>\n",
       "      <td>0.125j</td>\n",
       "    </tr>\n",
       "    <tr>\n",
       "      <th>2</th>\n",
       "      <td>(-0.125+0j)</td>\n",
       "      <td>(0.125+0j)</td>\n",
       "      <td>(0.125+0j)</td>\n",
       "      <td>(-0.125+0j)</td>\n",
       "    </tr>\n",
       "    <tr>\n",
       "      <th>3</th>\n",
       "      <td>0.125j</td>\n",
       "      <td>-0.375j</td>\n",
       "      <td>0.375j</td>\n",
       "      <td>-0.125j</td>\n",
       "    </tr>\n",
       "  </tbody>\n",
       "</table>\n",
       "</div>"
      ],
      "text/plain": [
       "             0           1           2            3\n",
       "0   (0.125+0j)  (0.375+0j)  (0.375+0j)   (0.125+0j)\n",
       "1      -0.125j     -0.125j      0.125j       0.125j\n",
       "2  (-0.125+0j)  (0.125+0j)  (0.125+0j)  (-0.125+0j)\n",
       "3       0.125j     -0.375j      0.375j      -0.125j"
      ]
     },
     "metadata": {},
     "output_type": "display_data"
    },
    {
     "data": {
      "text/html": [
       "<div>\n",
       "<style scoped>\n",
       "    .dataframe tbody tr th:only-of-type {\n",
       "        vertical-align: middle;\n",
       "    }\n",
       "\n",
       "    .dataframe tbody tr th {\n",
       "        vertical-align: top;\n",
       "    }\n",
       "\n",
       "    .dataframe thead th {\n",
       "        text-align: right;\n",
       "    }\n",
       "</style>\n",
       "<table border=\"1\" class=\"dataframe\">\n",
       "  <thead>\n",
       "    <tr style=\"text-align: right;\">\n",
       "      <th></th>\n",
       "      <th>0</th>\n",
       "      <th>1</th>\n",
       "      <th>2</th>\n",
       "      <th>3</th>\n",
       "    </tr>\n",
       "  </thead>\n",
       "  <tbody>\n",
       "    <tr>\n",
       "      <th>0</th>\n",
       "      <td>(-0.04166666666666667-0.04166666666666667j)</td>\n",
       "      <td>(0.125-0.125j)</td>\n",
       "      <td>(0.125+0.125j)</td>\n",
       "      <td>(-0.04166666666666667+0.04166666666666667j)</td>\n",
       "    </tr>\n",
       "    <tr>\n",
       "      <th>1</th>\n",
       "      <td>(-0.04166666666666667-0.04166666666666667j)</td>\n",
       "      <td>(0.125-0.125j)</td>\n",
       "      <td>(0.125+0.125j)</td>\n",
       "      <td>(-0.04166666666666667+0.04166666666666667j)</td>\n",
       "    </tr>\n",
       "  </tbody>\n",
       "</table>\n",
       "</div>"
      ],
      "text/plain": [
       "                                             0               1  \\\n",
       "0  (-0.04166666666666667-0.04166666666666667j)  (0.125-0.125j)   \n",
       "1  (-0.04166666666666667-0.04166666666666667j)  (0.125-0.125j)   \n",
       "\n",
       "                2                                            3  \n",
       "0  (0.125+0.125j)  (-0.04166666666666667+0.04166666666666667j)  \n",
       "1  (0.125+0.125j)  (-0.04166666666666667+0.04166666666666667j)  "
      ]
     },
     "metadata": {},
     "output_type": "display_data"
    }
   ],
   "source": [
    "T = np.array([[1,1j],[1,-1j]],dtype=complex)\n",
    "T_inv = np.linalg.inv(T)\n",
    "B2 = np.linalg.multi_dot([T2_mat(2),np.kron(T_inv,T_inv),S2_mat(2)])\n",
    "B3 = np.linalg.multi_dot([T3_mat(2),np.kron(np.eye(2),T2_mat(2)),np.kron(np.kron(T_inv,T_inv),T_inv),np.kron(np.eye(2),S2_mat(2)),S3_mat(2)])\n",
    "display(pd.DataFrame(B2))\n",
    "display(pd.DataFrame(B3))\n",
    "display(pd.DataFrame(np.array([[1/6, 1/2, 1/2, 1/6],[1/6, 1/2, 1/2, 1/6]]).dot(B3)))"
   ]
  },
  {
   "cell_type": "code",
   "execution_count": null,
   "metadata": {},
   "outputs": [],
   "source": []
  }
 ],
 "metadata": {
  "kernelspec": {
   "display_name": "Python 3",
   "language": "python",
   "name": "python3"
  },
  "language_info": {
   "codemirror_mode": {
    "name": "ipython",
    "version": 3
   },
   "file_extension": ".py",
   "mimetype": "text/x-python",
   "name": "python",
   "nbconvert_exporter": "python",
   "pygments_lexer": "ipython3",
   "version": "3.6.5"
  }
 },
 "nbformat": 4,
 "nbformat_minor": 2
}
